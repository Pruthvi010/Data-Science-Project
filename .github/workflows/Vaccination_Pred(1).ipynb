{
 "cells": [
  {
   "cell_type": "markdown",
   "id": "ee5b4836",
   "metadata": {
    "papermill": {
     "duration": 0.116076,
     "end_time": "2022-01-31T10:47:00.396032",
     "exception": false,
     "start_time": "2022-01-31T10:47:00.279956",
     "status": "completed"
    },
    "tags": []
   },
   "source": [
    "# Vaccination Prediction\n",
    "### Project By- Pruthviraj Shinde\n",
    "### Email id- me21m086@smail.iitm.ac.in"
   ]
  },
  {
   "cell_type": "markdown",
   "id": "30c7915c",
   "metadata": {
    "papermill": {
     "duration": 0.109311,
     "end_time": "2022-01-31T10:47:00.676535",
     "exception": false,
     "start_time": "2022-01-31T10:47:00.567224",
     "status": "completed"
    },
    "tags": []
   },
   "source": [
    "## Installing the required packages"
   ]
  },
  {
   "cell_type": "code",
   "execution_count": 1,
   "id": "26505a23",
   "metadata": {
    "papermill": {
     "duration": 30.274564,
     "end_time": "2022-01-31T10:47:31.062161",
     "exception": false,
     "start_time": "2022-01-31T10:47:00.787597",
     "status": "completed"
    },
    "tags": []
   },
   "outputs": [
    {
     "name": "stdout",
     "output_type": "stream",
     "text": [
      "Collecting scikit-multilearn\n",
      "  Downloading scikit_multilearn-0.2.0-py3-none-any.whl (89 kB)\n",
      "\u001b[2K     \u001b[90m━━━━━━━━━━━━━━━━━━━━━━━━━━━━━━━━━━━━━━━━\u001b[0m \u001b[32m89.4/89.4 kB\u001b[0m \u001b[31m1.4 MB/s\u001b[0m eta \u001b[36m0:00:00\u001b[0ma \u001b[36m0:00:01\u001b[0m\n",
      "\u001b[?25hInstalling collected packages: scikit-multilearn\n",
      "Successfully installed scikit-multilearn-0.2.0\n"
     ]
    }
   ],
   "source": [
    "!pip install scikit-multilearn"
   ]
  },
  {
   "cell_type": "markdown",
   "id": "a47d584e",
   "metadata": {
    "papermill": {
     "duration": 0.11048,
     "end_time": "2022-01-31T10:47:31.285777",
     "exception": false,
     "start_time": "2022-01-31T10:47:31.175297",
     "status": "completed"
    },
    "tags": []
   },
   "source": [
    "## Importing the required libraries"
   ]
  },
  {
   "cell_type": "code",
   "execution_count": 1,
   "id": "65ac96f3",
   "metadata": {
    "papermill": {
     "duration": 1.673832,
     "end_time": "2022-01-31T10:47:33.071400",
     "exception": false,
     "start_time": "2022-01-31T10:47:31.397568",
     "status": "completed"
    },
    "tags": []
   },
   "outputs": [],
   "source": [
    "# Common libraries\n",
    "\n",
    "import pandas as pd\n",
    "import numpy as np\n",
    "import matplotlib.pyplot as plt\n",
    "import seaborn as sns\n",
    "\n",
    "# Libraries for Feature Selection\n",
    "\n",
    "from sklearn.feature_selection import SelectKBest\n",
    "from sklearn.feature_selection import chi2\n",
    "from sklearn.ensemble import ExtraTreesClassifier\n",
    "from sklearn.decomposition import PCA\n",
    "\n",
    "# Libraries for Problem Transformation\n",
    "\n",
    "from skmultilearn.problem_transform import BinaryRelevance\n",
    "from skmultilearn.problem_transform import ClassifierChain\n",
    "from skmultilearn.problem_transform import LabelPowerset\n",
    "\n",
    "# Libraries for model training\n",
    "\n",
    "from sklearn.preprocessing import MinMaxScaler , LabelEncoder\n",
    "from sklearn.model_selection import train_test_split , GridSearchCV , cross_val_score\n",
    "\n",
    "# Libraries for algorithm\n",
    "\n",
    "from sklearn.linear_model import LogisticRegression\n",
    "from sklearn.tree import DecisionTreeClassifier\n",
    "from sklearn.naive_bayes import GaussianNB\n",
    "from sklearn.ensemble import RandomForestClassifier\n",
    "\n",
    "# Libraries for testing\n",
    "\n",
    "from sklearn.metrics import accuracy_score , classification_report\n",
    "\n",
    "# Removing warnings\n",
    "\n",
    "import warnings\n",
    "warnings.filterwarnings('ignore')\n",
    "\n",
    "# Storing plots\n",
    "\n",
    "%matplotlib inline"
   ]
  },
  {
   "cell_type": "markdown",
   "id": "71950aaa",
   "metadata": {
    "papermill": {
     "duration": 0.113765,
     "end_time": "2022-01-31T10:47:33.304177",
     "exception": false,
     "start_time": "2022-01-31T10:47:33.190412",
     "status": "completed"
    },
    "tags": []
   },
   "source": [
    "## Loading the dataset into the dataframe"
   ]
  },
  {
   "cell_type": "code",
   "execution_count": 2,
   "id": "e37a8332",
   "metadata": {
    "papermill": {
     "duration": 0.370686,
     "end_time": "2022-01-31T10:47:33.791104",
     "exception": false,
     "start_time": "2022-01-31T10:47:33.420418",
     "status": "completed"
    },
    "tags": []
   },
   "outputs": [],
   "source": [
    "df = pd.read_csv('https://raw.githubusercontent.com/Premalatha-success/Datasets/main/h1n1_vaccine_prediction.csv', delimiter=',')"
   ]
  },
  {
   "cell_type": "code",
   "execution_count": 3,
   "id": "6dd60afe-ac2a-4919-945e-887164063edd",
   "metadata": {},
   "outputs": [
    {
     "name": "stdout",
     "output_type": "stream",
     "text": [
      "<class 'pandas.core.frame.DataFrame'>\n",
      "RangeIndex: 26707 entries, 0 to 26706\n",
      "Data columns (total 34 columns):\n",
      " #   Column                     Non-Null Count  Dtype  \n",
      "---  ------                     --------------  -----  \n",
      " 0   unique_id                  26707 non-null  int64  \n",
      " 1   h1n1_worry                 26615 non-null  float64\n",
      " 2   h1n1_awareness             26591 non-null  float64\n",
      " 3   antiviral_medication       26636 non-null  float64\n",
      " 4   contact_avoidance          26499 non-null  float64\n",
      " 5   bought_face_mask           26688 non-null  float64\n",
      " 6   wash_hands_frequently      26665 non-null  float64\n",
      " 7   avoid_large_gatherings     26620 non-null  float64\n",
      " 8   reduced_outside_home_cont  26625 non-null  float64\n",
      " 9   avoid_touch_face           26579 non-null  float64\n",
      " 10  dr_recc_h1n1_vacc          24547 non-null  float64\n",
      " 11  dr_recc_seasonal_vacc      24547 non-null  float64\n",
      " 12  chronic_medic_condition    25736 non-null  float64\n",
      " 13  cont_child_undr_6_mnths    25887 non-null  float64\n",
      " 14  is_health_worker           25903 non-null  float64\n",
      " 15  has_health_insur           14433 non-null  float64\n",
      " 16  is_h1n1_vacc_effective     26316 non-null  float64\n",
      " 17  is_h1n1_risky              26319 non-null  float64\n",
      " 18  sick_from_h1n1_vacc        26312 non-null  float64\n",
      " 19  is_seas_vacc_effective     26245 non-null  float64\n",
      " 20  is_seas_risky              26193 non-null  float64\n",
      " 21  sick_from_seas_vacc        26170 non-null  float64\n",
      " 22  age_bracket                26707 non-null  object \n",
      " 23  qualification              25300 non-null  object \n",
      " 24  race                       26707 non-null  object \n",
      " 25  sex                        26707 non-null  object \n",
      " 26  income_level               22284 non-null  object \n",
      " 27  marital_status             25299 non-null  object \n",
      " 28  housing_status             24665 non-null  object \n",
      " 29  employment                 25244 non-null  object \n",
      " 30  census_msa                 26707 non-null  object \n",
      " 31  no_of_adults               26458 non-null  float64\n",
      " 32  no_of_children             26458 non-null  float64\n",
      " 33  h1n1_vaccine               26707 non-null  int64  \n",
      "dtypes: float64(23), int64(2), object(9)\n",
      "memory usage: 6.9+ MB\n"
     ]
    }
   ],
   "source": [
    "df.info()"
   ]
  },
  {
   "cell_type": "code",
   "execution_count": 7,
   "id": "b35d0b90-3d51-4b67-8d35-ca740c3cbf4e",
   "metadata": {},
   "outputs": [],
   "source": [
    "features = df.iloc[:,:-1]\n",
    "labels = df.iloc[:,[33]]\n",
    "features.drop('unique_id',axis=1,inplace=True)"
   ]
  },
  {
   "cell_type": "code",
   "execution_count": 8,
   "id": "9f08e030",
   "metadata": {
    "papermill": {
     "duration": 0.161689,
     "end_time": "2022-01-31T10:47:34.069005",
     "exception": false,
     "start_time": "2022-01-31T10:47:33.907316",
     "status": "completed"
    },
    "tags": []
   },
   "outputs": [
    {
     "data": {
      "text/html": [
       "<div>\n",
       "<style scoped>\n",
       "    .dataframe tbody tr th:only-of-type {\n",
       "        vertical-align: middle;\n",
       "    }\n",
       "\n",
       "    .dataframe tbody tr th {\n",
       "        vertical-align: top;\n",
       "    }\n",
       "\n",
       "    .dataframe thead th {\n",
       "        text-align: right;\n",
       "    }\n",
       "</style>\n",
       "<table border=\"1\" class=\"dataframe\">\n",
       "  <thead>\n",
       "    <tr style=\"text-align: right;\">\n",
       "      <th></th>\n",
       "      <th>h1n1_worry</th>\n",
       "      <th>h1n1_awareness</th>\n",
       "      <th>antiviral_medication</th>\n",
       "      <th>contact_avoidance</th>\n",
       "      <th>bought_face_mask</th>\n",
       "      <th>wash_hands_frequently</th>\n",
       "      <th>avoid_large_gatherings</th>\n",
       "      <th>reduced_outside_home_cont</th>\n",
       "      <th>avoid_touch_face</th>\n",
       "      <th>dr_recc_h1n1_vacc</th>\n",
       "      <th>...</th>\n",
       "      <th>qualification</th>\n",
       "      <th>race</th>\n",
       "      <th>sex</th>\n",
       "      <th>income_level</th>\n",
       "      <th>marital_status</th>\n",
       "      <th>housing_status</th>\n",
       "      <th>employment</th>\n",
       "      <th>census_msa</th>\n",
       "      <th>no_of_adults</th>\n",
       "      <th>no_of_children</th>\n",
       "    </tr>\n",
       "  </thead>\n",
       "  <tbody>\n",
       "    <tr>\n",
       "      <th>0</th>\n",
       "      <td>1.0</td>\n",
       "      <td>0.0</td>\n",
       "      <td>0.0</td>\n",
       "      <td>0.0</td>\n",
       "      <td>0.0</td>\n",
       "      <td>0.0</td>\n",
       "      <td>0.0</td>\n",
       "      <td>1.0</td>\n",
       "      <td>1.0</td>\n",
       "      <td>0.0</td>\n",
       "      <td>...</td>\n",
       "      <td>&lt; 12 Years</td>\n",
       "      <td>White</td>\n",
       "      <td>Female</td>\n",
       "      <td>Below Poverty</td>\n",
       "      <td>Not Married</td>\n",
       "      <td>Own</td>\n",
       "      <td>Not in Labor Force</td>\n",
       "      <td>Non-MSA</td>\n",
       "      <td>0.0</td>\n",
       "      <td>0.0</td>\n",
       "    </tr>\n",
       "    <tr>\n",
       "      <th>1</th>\n",
       "      <td>3.0</td>\n",
       "      <td>2.0</td>\n",
       "      <td>0.0</td>\n",
       "      <td>1.0</td>\n",
       "      <td>0.0</td>\n",
       "      <td>1.0</td>\n",
       "      <td>0.0</td>\n",
       "      <td>1.0</td>\n",
       "      <td>1.0</td>\n",
       "      <td>0.0</td>\n",
       "      <td>...</td>\n",
       "      <td>12 Years</td>\n",
       "      <td>White</td>\n",
       "      <td>Male</td>\n",
       "      <td>Below Poverty</td>\n",
       "      <td>Not Married</td>\n",
       "      <td>Rent</td>\n",
       "      <td>Employed</td>\n",
       "      <td>MSA, Not Principle  City</td>\n",
       "      <td>0.0</td>\n",
       "      <td>0.0</td>\n",
       "    </tr>\n",
       "    <tr>\n",
       "      <th>2</th>\n",
       "      <td>1.0</td>\n",
       "      <td>1.0</td>\n",
       "      <td>0.0</td>\n",
       "      <td>1.0</td>\n",
       "      <td>0.0</td>\n",
       "      <td>0.0</td>\n",
       "      <td>0.0</td>\n",
       "      <td>0.0</td>\n",
       "      <td>0.0</td>\n",
       "      <td>NaN</td>\n",
       "      <td>...</td>\n",
       "      <td>College Graduate</td>\n",
       "      <td>White</td>\n",
       "      <td>Male</td>\n",
       "      <td>&lt;= $75,000, Above Poverty</td>\n",
       "      <td>Not Married</td>\n",
       "      <td>Own</td>\n",
       "      <td>Employed</td>\n",
       "      <td>MSA, Not Principle  City</td>\n",
       "      <td>2.0</td>\n",
       "      <td>0.0</td>\n",
       "    </tr>\n",
       "    <tr>\n",
       "      <th>3</th>\n",
       "      <td>1.0</td>\n",
       "      <td>1.0</td>\n",
       "      <td>0.0</td>\n",
       "      <td>1.0</td>\n",
       "      <td>0.0</td>\n",
       "      <td>1.0</td>\n",
       "      <td>1.0</td>\n",
       "      <td>0.0</td>\n",
       "      <td>0.0</td>\n",
       "      <td>0.0</td>\n",
       "      <td>...</td>\n",
       "      <td>12 Years</td>\n",
       "      <td>White</td>\n",
       "      <td>Female</td>\n",
       "      <td>Below Poverty</td>\n",
       "      <td>Not Married</td>\n",
       "      <td>Rent</td>\n",
       "      <td>Not in Labor Force</td>\n",
       "      <td>MSA, Principle City</td>\n",
       "      <td>0.0</td>\n",
       "      <td>0.0</td>\n",
       "    </tr>\n",
       "    <tr>\n",
       "      <th>4</th>\n",
       "      <td>2.0</td>\n",
       "      <td>1.0</td>\n",
       "      <td>0.0</td>\n",
       "      <td>1.0</td>\n",
       "      <td>0.0</td>\n",
       "      <td>1.0</td>\n",
       "      <td>1.0</td>\n",
       "      <td>0.0</td>\n",
       "      <td>1.0</td>\n",
       "      <td>0.0</td>\n",
       "      <td>...</td>\n",
       "      <td>Some College</td>\n",
       "      <td>White</td>\n",
       "      <td>Female</td>\n",
       "      <td>&lt;= $75,000, Above Poverty</td>\n",
       "      <td>Married</td>\n",
       "      <td>Own</td>\n",
       "      <td>Employed</td>\n",
       "      <td>MSA, Not Principle  City</td>\n",
       "      <td>1.0</td>\n",
       "      <td>0.0</td>\n",
       "    </tr>\n",
       "  </tbody>\n",
       "</table>\n",
       "<p>5 rows × 32 columns</p>\n",
       "</div>"
      ],
      "text/plain": [
       "   h1n1_worry  h1n1_awareness  antiviral_medication  contact_avoidance  \\\n",
       "0         1.0             0.0                   0.0                0.0   \n",
       "1         3.0             2.0                   0.0                1.0   \n",
       "2         1.0             1.0                   0.0                1.0   \n",
       "3         1.0             1.0                   0.0                1.0   \n",
       "4         2.0             1.0                   0.0                1.0   \n",
       "\n",
       "   bought_face_mask  wash_hands_frequently  avoid_large_gatherings  \\\n",
       "0               0.0                    0.0                     0.0   \n",
       "1               0.0                    1.0                     0.0   \n",
       "2               0.0                    0.0                     0.0   \n",
       "3               0.0                    1.0                     1.0   \n",
       "4               0.0                    1.0                     1.0   \n",
       "\n",
       "   reduced_outside_home_cont  avoid_touch_face  dr_recc_h1n1_vacc  ...  \\\n",
       "0                        1.0               1.0                0.0  ...   \n",
       "1                        1.0               1.0                0.0  ...   \n",
       "2                        0.0               0.0                NaN  ...   \n",
       "3                        0.0               0.0                0.0  ...   \n",
       "4                        0.0               1.0                0.0  ...   \n",
       "\n",
       "      qualification   race     sex               income_level  marital_status  \\\n",
       "0        < 12 Years  White  Female              Below Poverty     Not Married   \n",
       "1          12 Years  White    Male              Below Poverty     Not Married   \n",
       "2  College Graduate  White    Male  <= $75,000, Above Poverty     Not Married   \n",
       "3          12 Years  White  Female              Below Poverty     Not Married   \n",
       "4      Some College  White  Female  <= $75,000, Above Poverty         Married   \n",
       "\n",
       "   housing_status          employment                census_msa  no_of_adults  \\\n",
       "0             Own  Not in Labor Force                   Non-MSA           0.0   \n",
       "1            Rent            Employed  MSA, Not Principle  City           0.0   \n",
       "2             Own            Employed  MSA, Not Principle  City           2.0   \n",
       "3            Rent  Not in Labor Force       MSA, Principle City           0.0   \n",
       "4             Own            Employed  MSA, Not Principle  City           1.0   \n",
       "\n",
       "   no_of_children  \n",
       "0             0.0  \n",
       "1             0.0  \n",
       "2             0.0  \n",
       "3             0.0  \n",
       "4             0.0  \n",
       "\n",
       "[5 rows x 32 columns]"
      ]
     },
     "execution_count": 8,
     "metadata": {},
     "output_type": "execute_result"
    }
   ],
   "source": [
    "features.head()"
   ]
  },
  {
   "cell_type": "code",
   "execution_count": 9,
   "id": "49546868",
   "metadata": {
    "papermill": {
     "duration": 0.124688,
     "end_time": "2022-01-31T10:47:34.307242",
     "exception": false,
     "start_time": "2022-01-31T10:47:34.182554",
     "status": "completed"
    },
    "tags": []
   },
   "outputs": [
    {
     "data": {
      "text/html": [
       "<div>\n",
       "<style scoped>\n",
       "    .dataframe tbody tr th:only-of-type {\n",
       "        vertical-align: middle;\n",
       "    }\n",
       "\n",
       "    .dataframe tbody tr th {\n",
       "        vertical-align: top;\n",
       "    }\n",
       "\n",
       "    .dataframe thead th {\n",
       "        text-align: right;\n",
       "    }\n",
       "</style>\n",
       "<table border=\"1\" class=\"dataframe\">\n",
       "  <thead>\n",
       "    <tr style=\"text-align: right;\">\n",
       "      <th></th>\n",
       "      <th>h1n1_vaccine</th>\n",
       "    </tr>\n",
       "  </thead>\n",
       "  <tbody>\n",
       "    <tr>\n",
       "      <th>0</th>\n",
       "      <td>0</td>\n",
       "    </tr>\n",
       "    <tr>\n",
       "      <th>1</th>\n",
       "      <td>0</td>\n",
       "    </tr>\n",
       "    <tr>\n",
       "      <th>2</th>\n",
       "      <td>0</td>\n",
       "    </tr>\n",
       "    <tr>\n",
       "      <th>3</th>\n",
       "      <td>0</td>\n",
       "    </tr>\n",
       "    <tr>\n",
       "      <th>4</th>\n",
       "      <td>0</td>\n",
       "    </tr>\n",
       "  </tbody>\n",
       "</table>\n",
       "</div>"
      ],
      "text/plain": [
       "   h1n1_vaccine\n",
       "0             0\n",
       "1             0\n",
       "2             0\n",
       "3             0\n",
       "4             0"
      ]
     },
     "execution_count": 9,
     "metadata": {},
     "output_type": "execute_result"
    }
   ],
   "source": [
    "labels.head()"
   ]
  },
  {
   "cell_type": "markdown",
   "id": "f0ebaaf8",
   "metadata": {
    "papermill": {
     "duration": 0.117888,
     "end_time": "2022-01-31T10:47:34.543838",
     "exception": false,
     "start_time": "2022-01-31T10:47:34.425950",
     "status": "completed"
    },
    "tags": []
   },
   "source": [
    "## Checking the shape of dataset"
   ]
  },
  {
   "cell_type": "code",
   "execution_count": 10,
   "id": "2e3fb54a",
   "metadata": {
    "papermill": {
     "duration": 0.129802,
     "end_time": "2022-01-31T10:47:34.794117",
     "exception": false,
     "start_time": "2022-01-31T10:47:34.664315",
     "status": "completed"
    },
    "tags": []
   },
   "outputs": [
    {
     "data": {
      "text/plain": [
       "(26707, 32)"
      ]
     },
     "execution_count": 10,
     "metadata": {},
     "output_type": "execute_result"
    }
   ],
   "source": [
    "features.shape"
   ]
  },
  {
   "cell_type": "markdown",
   "id": "1ce9bbb4",
   "metadata": {
    "papermill": {
     "duration": 0.118628,
     "end_time": "2022-01-31T10:47:35.032446",
     "exception": false,
     "start_time": "2022-01-31T10:47:34.913818",
     "status": "completed"
    },
    "tags": []
   },
   "source": [
    "#### There are 32 features so either we should do PCA or feature selection."
   ]
  },
  {
   "cell_type": "code",
   "execution_count": 11,
   "id": "d8796ded",
   "metadata": {
    "papermill": {
     "duration": 0.120875,
     "end_time": "2022-01-31T10:47:35.265703",
     "exception": false,
     "start_time": "2022-01-31T10:47:35.144828",
     "status": "completed"
    },
    "tags": []
   },
   "outputs": [
    {
     "data": {
      "text/plain": [
       "(26707, 1)"
      ]
     },
     "execution_count": 11,
     "metadata": {},
     "output_type": "execute_result"
    }
   ],
   "source": [
    "labels.shape"
   ]
  },
  {
   "cell_type": "markdown",
   "id": "8e7e2678",
   "metadata": {
    "papermill": {
     "duration": 0.111834,
     "end_time": "2022-01-31T10:47:35.493048",
     "exception": false,
     "start_time": "2022-01-31T10:47:35.381214",
     "status": "completed"
    },
    "tags": []
   },
   "source": [
    "## Checking the data types"
   ]
  },
  {
   "cell_type": "code",
   "execution_count": 12,
   "id": "620c879b",
   "metadata": {
    "papermill": {
     "duration": 0.177592,
     "end_time": "2022-01-31T10:47:35.783266",
     "exception": false,
     "start_time": "2022-01-31T10:47:35.605674",
     "status": "completed"
    },
    "tags": []
   },
   "outputs": [
    {
     "name": "stdout",
     "output_type": "stream",
     "text": [
      "<class 'pandas.core.frame.DataFrame'>\n",
      "RangeIndex: 26707 entries, 0 to 26706\n",
      "Data columns (total 32 columns):\n",
      " #   Column                     Non-Null Count  Dtype  \n",
      "---  ------                     --------------  -----  \n",
      " 0   h1n1_worry                 26615 non-null  float64\n",
      " 1   h1n1_awareness             26591 non-null  float64\n",
      " 2   antiviral_medication       26636 non-null  float64\n",
      " 3   contact_avoidance          26499 non-null  float64\n",
      " 4   bought_face_mask           26688 non-null  float64\n",
      " 5   wash_hands_frequently      26665 non-null  float64\n",
      " 6   avoid_large_gatherings     26620 non-null  float64\n",
      " 7   reduced_outside_home_cont  26625 non-null  float64\n",
      " 8   avoid_touch_face           26579 non-null  float64\n",
      " 9   dr_recc_h1n1_vacc          24547 non-null  float64\n",
      " 10  dr_recc_seasonal_vacc      24547 non-null  float64\n",
      " 11  chronic_medic_condition    25736 non-null  float64\n",
      " 12  cont_child_undr_6_mnths    25887 non-null  float64\n",
      " 13  is_health_worker           25903 non-null  float64\n",
      " 14  has_health_insur           14433 non-null  float64\n",
      " 15  is_h1n1_vacc_effective     26316 non-null  float64\n",
      " 16  is_h1n1_risky              26319 non-null  float64\n",
      " 17  sick_from_h1n1_vacc        26312 non-null  float64\n",
      " 18  is_seas_vacc_effective     26245 non-null  float64\n",
      " 19  is_seas_risky              26193 non-null  float64\n",
      " 20  sick_from_seas_vacc        26170 non-null  float64\n",
      " 21  age_bracket                26707 non-null  object \n",
      " 22  qualification              25300 non-null  object \n",
      " 23  race                       26707 non-null  object \n",
      " 24  sex                        26707 non-null  object \n",
      " 25  income_level               22284 non-null  object \n",
      " 26  marital_status             25299 non-null  object \n",
      " 27  housing_status             24665 non-null  object \n",
      " 28  employment                 25244 non-null  object \n",
      " 29  census_msa                 26707 non-null  object \n",
      " 30  no_of_adults               26458 non-null  float64\n",
      " 31  no_of_children             26458 non-null  float64\n",
      "dtypes: float64(23), object(9)\n",
      "memory usage: 6.5+ MB\n"
     ]
    }
   ],
   "source": [
    "features.info()"
   ]
  },
  {
   "cell_type": "markdown",
   "id": "2e3f7c5c",
   "metadata": {
    "papermill": {
     "duration": 0.113395,
     "end_time": "2022-01-31T10:47:36.010400",
     "exception": false,
     "start_time": "2022-01-31T10:47:35.897005",
     "status": "completed"
    },
    "tags": []
   },
   "source": [
    "#### We need to encode the object to int"
   ]
  },
  {
   "cell_type": "code",
   "execution_count": 13,
   "id": "94a15197",
   "metadata": {
    "papermill": {
     "duration": 0.129372,
     "end_time": "2022-01-31T10:47:36.253456",
     "exception": false,
     "start_time": "2022-01-31T10:47:36.124084",
     "status": "completed"
    },
    "tags": []
   },
   "outputs": [
    {
     "name": "stdout",
     "output_type": "stream",
     "text": [
      "<class 'pandas.core.frame.DataFrame'>\n",
      "RangeIndex: 26707 entries, 0 to 26706\n",
      "Data columns (total 1 columns):\n",
      " #   Column        Non-Null Count  Dtype\n",
      "---  ------        --------------  -----\n",
      " 0   h1n1_vaccine  26707 non-null  int64\n",
      "dtypes: int64(1)\n",
      "memory usage: 208.8 KB\n"
     ]
    }
   ],
   "source": [
    "labels.info()"
   ]
  },
  {
   "cell_type": "markdown",
   "id": "2ceb1b68",
   "metadata": {
    "papermill": {
     "duration": 0.11751,
     "end_time": "2022-01-31T10:47:36.486105",
     "exception": false,
     "start_time": "2022-01-31T10:47:36.368595",
     "status": "completed"
    },
    "tags": []
   },
   "source": [
    "# DATA PRE-PROCESSING"
   ]
  },
  {
   "cell_type": "markdown",
   "id": "c998203b",
   "metadata": {
    "papermill": {
     "duration": 0.113425,
     "end_time": "2022-01-31T10:47:36.715132",
     "exception": false,
     "start_time": "2022-01-31T10:47:36.601707",
     "status": "completed"
    },
    "tags": []
   },
   "source": [
    "# Checking for duplicates in dataset"
   ]
  },
  {
   "cell_type": "code",
   "execution_count": 14,
   "id": "58872ad5",
   "metadata": {
    "papermill": {
     "duration": 0.192269,
     "end_time": "2022-01-31T10:47:37.020670",
     "exception": false,
     "start_time": "2022-01-31T10:47:36.828401",
     "status": "completed"
    },
    "tags": []
   },
   "outputs": [
    {
     "data": {
      "text/plain": [
       "5"
      ]
     },
     "execution_count": 14,
     "metadata": {},
     "output_type": "execute_result"
    }
   ],
   "source": [
    "features.duplicated().sum()"
   ]
  },
  {
   "cell_type": "markdown",
   "id": "cfa724f5",
   "metadata": {
    "papermill": {
     "duration": 0.113412,
     "end_time": "2022-01-31T10:47:37.253959",
     "exception": false,
     "start_time": "2022-01-31T10:47:37.140547",
     "status": "completed"
    },
    "tags": []
   },
   "source": [
    "#### There no duplicates in dataset."
   ]
  },
  {
   "cell_type": "code",
   "execution_count": 15,
   "id": "d4c8acce",
   "metadata": {
    "papermill": {
     "duration": 0.128256,
     "end_time": "2022-01-31T10:47:37.496439",
     "exception": false,
     "start_time": "2022-01-31T10:47:37.368183",
     "status": "completed"
    },
    "tags": []
   },
   "outputs": [
    {
     "data": {
      "text/plain": [
       "26705"
      ]
     },
     "execution_count": 15,
     "metadata": {},
     "output_type": "execute_result"
    }
   ],
   "source": [
    "labels.duplicated().sum()"
   ]
  },
  {
   "cell_type": "markdown",
   "id": "e4159f4d",
   "metadata": {
    "papermill": {
     "duration": 0.113454,
     "end_time": "2022-01-31T10:47:37.723826",
     "exception": false,
     "start_time": "2022-01-31T10:47:37.610372",
     "status": "completed"
    },
    "tags": []
   },
   "source": [
    "## Checking for missing values in dataset"
   ]
  },
  {
   "cell_type": "code",
   "execution_count": 16,
   "id": "792f1b43",
   "metadata": {
    "papermill": {
     "duration": 0.16206,
     "end_time": "2022-01-31T10:47:38.000236",
     "exception": false,
     "start_time": "2022-01-31T10:47:37.838176",
     "status": "completed"
    },
    "tags": []
   },
   "outputs": [
    {
     "data": {
      "text/plain": [
       "h1n1_worry                      92\n",
       "h1n1_awareness                 116\n",
       "antiviral_medication            71\n",
       "contact_avoidance              208\n",
       "bought_face_mask                19\n",
       "wash_hands_frequently           42\n",
       "avoid_large_gatherings          87\n",
       "reduced_outside_home_cont       82\n",
       "avoid_touch_face               128\n",
       "dr_recc_h1n1_vacc             2160\n",
       "dr_recc_seasonal_vacc         2160\n",
       "chronic_medic_condition        971\n",
       "cont_child_undr_6_mnths        820\n",
       "is_health_worker               804\n",
       "has_health_insur             12274\n",
       "is_h1n1_vacc_effective         391\n",
       "is_h1n1_risky                  388\n",
       "sick_from_h1n1_vacc            395\n",
       "is_seas_vacc_effective         462\n",
       "is_seas_risky                  514\n",
       "sick_from_seas_vacc            537\n",
       "age_bracket                      0\n",
       "qualification                 1407\n",
       "race                             0\n",
       "sex                              0\n",
       "income_level                  4423\n",
       "marital_status                1408\n",
       "housing_status                2042\n",
       "employment                    1463\n",
       "census_msa                       0\n",
       "no_of_adults                   249\n",
       "no_of_children                 249\n",
       "dtype: int64"
      ]
     },
     "execution_count": 16,
     "metadata": {},
     "output_type": "execute_result"
    }
   ],
   "source": [
    "features.isnull().sum()"
   ]
  },
  {
   "cell_type": "markdown",
   "id": "6c368dbd",
   "metadata": {
    "papermill": {
     "duration": 0.114442,
     "end_time": "2022-01-31T10:47:38.229236",
     "exception": false,
     "start_time": "2022-01-31T10:47:38.114794",
     "status": "completed"
    },
    "tags": []
   },
   "source": [
    "#### There are lots of missing value so we need to impute them."
   ]
  },
  {
   "cell_type": "code",
   "execution_count": 17,
   "id": "5032e9e1",
   "metadata": {
    "papermill": {
     "duration": 0.125796,
     "end_time": "2022-01-31T10:47:38.469490",
     "exception": false,
     "start_time": "2022-01-31T10:47:38.343694",
     "status": "completed"
    },
    "tags": []
   },
   "outputs": [
    {
     "data": {
      "text/plain": [
       "h1n1_vaccine    0\n",
       "dtype: int64"
      ]
     },
     "execution_count": 17,
     "metadata": {},
     "output_type": "execute_result"
    }
   ],
   "source": [
    "labels.isnull().sum()"
   ]
  },
  {
   "cell_type": "markdown",
   "id": "fe7abab2",
   "metadata": {
    "papermill": {
     "duration": 0.114968,
     "end_time": "2022-01-31T10:47:38.700879",
     "exception": false,
     "start_time": "2022-01-31T10:47:38.585911",
     "status": "completed"
    },
    "tags": []
   },
   "source": [
    "## Filling the missing values"
   ]
  },
  {
   "cell_type": "code",
   "execution_count": 18,
   "id": "47f0a84c",
   "metadata": {
    "papermill": {
     "duration": 0.98105,
     "end_time": "2022-01-31T10:47:39.798290",
     "exception": false,
     "start_time": "2022-01-31T10:47:38.817240",
     "status": "completed"
    },
    "tags": []
   },
   "outputs": [],
   "source": [
    "# For float fill missing values with the mean\n",
    "\n",
    "features = features.fillna(features.mean())\n",
    "features = round(features)\n",
    "\n",
    "# For string fill missing value with 'No Category'\n",
    "\n",
    "features = features.fillna('No Category')"
   ]
  },
  {
   "cell_type": "code",
   "execution_count": 19,
   "id": "2296300a",
   "metadata": {
    "papermill": {
     "duration": 0.175773,
     "end_time": "2022-01-31T10:47:40.102746",
     "exception": false,
     "start_time": "2022-01-31T10:47:39.926973",
     "status": "completed"
    },
    "tags": []
   },
   "outputs": [],
   "source": [
    "listFeat=[]\n",
    "for col in features.columns:\n",
    "    listFeat.append(col)"
   ]
  },
  {
   "cell_type": "code",
   "execution_count": 20,
   "id": "099be51e-90ec-488d-b18b-89868f6db02c",
   "metadata": {},
   "outputs": [
    {
     "name": "stdout",
     "output_type": "stream",
     "text": [
      "['h1n1_worry', 'h1n1_awareness', 'antiviral_medication', 'contact_avoidance', 'bought_face_mask', 'wash_hands_frequently', 'avoid_large_gatherings', 'reduced_outside_home_cont', 'avoid_touch_face', 'dr_recc_h1n1_vacc', 'dr_recc_seasonal_vacc', 'chronic_medic_condition', 'cont_child_undr_6_mnths', 'is_health_worker', 'has_health_insur', 'is_h1n1_vacc_effective', 'is_h1n1_risky', 'sick_from_h1n1_vacc', 'is_seas_vacc_effective', 'is_seas_risky', 'sick_from_seas_vacc', 'age_bracket', 'qualification', 'race', 'sex', 'income_level', 'marital_status', 'housing_status', 'employment', 'census_msa', 'no_of_adults', 'no_of_children']\n"
     ]
    }
   ],
   "source": [
    "print(listFeat)"
   ]
  },
  {
   "cell_type": "markdown",
   "id": "80c75bd0",
   "metadata": {
    "papermill": {
     "duration": 0.116384,
     "end_time": "2022-01-31T10:47:40.336513",
     "exception": false,
     "start_time": "2022-01-31T10:47:40.220129",
     "status": "completed"
    },
    "tags": []
   },
   "source": [
    "## Finding the unique values of features"
   ]
  },
  {
   "cell_type": "code",
   "execution_count": 21,
   "id": "209a2aea-dada-40af-bd99-abc51958ff92",
   "metadata": {},
   "outputs": [
    {
     "name": "stdout",
     "output_type": "stream",
     "text": [
      "age_bracket\n",
      "['55 - 64 Years' '35 - 44 Years' '18 - 34 Years' '65+ Years'\n",
      " '45 - 54 Years']\n",
      "qualification\n",
      "['< 12 Years' '12 Years' 'College Graduate' 'Some College' 'No Category']\n",
      "race\n",
      "['White' 'Black' 'Other or Multiple' 'Hispanic']\n",
      "sex\n",
      "['Female' 'Male']\n",
      "income_level\n",
      "['Below Poverty' '<= $75,000, Above Poverty' '> $75,000' 'No Category']\n",
      "marital_status\n",
      "['Not Married' 'Married' 'No Category']\n",
      "housing_status\n",
      "['Own' 'Rent' 'No Category']\n",
      "employment\n",
      "['Not in Labor Force' 'Employed' 'Unemployed' 'No Category']\n",
      "census_msa\n",
      "['Non-MSA' 'MSA, Not Principle  City' 'MSA, Principle City']\n"
     ]
    }
   ],
   "source": [
    "for col in features.columns:\n",
    "    if df[col].dtype=='object':\n",
    "        print(col)\n",
    "        print(features[col].unique())"
   ]
  },
  {
   "cell_type": "code",
   "execution_count": 22,
   "id": "841a3775-74e2-41be-8e76-665bfcf63aa9",
   "metadata": {},
   "outputs": [
    {
     "name": "stdout",
     "output_type": "stream",
     "text": [
      "h1n1_worry\n",
      "[1. 3. 2. 0.]\n",
      "h1n1_awareness\n",
      "[0. 2. 1.]\n",
      "antiviral_medication\n",
      "[0. 1.]\n",
      "contact_avoidance\n",
      "[0. 1.]\n",
      "bought_face_mask\n",
      "[0. 1.]\n",
      "wash_hands_frequently\n",
      "[0. 1.]\n",
      "avoid_large_gatherings\n",
      "[0. 1.]\n",
      "reduced_outside_home_cont\n",
      "[1. 0.]\n",
      "avoid_touch_face\n",
      "[1. 0.]\n",
      "dr_recc_h1n1_vacc\n",
      "[0. 1.]\n",
      "dr_recc_seasonal_vacc\n",
      "[0. 1.]\n",
      "chronic_medic_condition\n",
      "[0. 1.]\n",
      "cont_child_undr_6_mnths\n",
      "[0. 1.]\n",
      "is_health_worker\n",
      "[0. 1.]\n",
      "has_health_insur\n",
      "[1. 0.]\n",
      "is_h1n1_vacc_effective\n",
      "[3. 5. 4. 2. 1.]\n",
      "is_h1n1_risky\n",
      "[1. 4. 3. 2. 5.]\n",
      "sick_from_h1n1_vacc\n",
      "[2. 4. 1. 5. 3.]\n",
      "is_seas_vacc_effective\n",
      "[2. 4. 5. 3. 1.]\n",
      "is_seas_risky\n",
      "[1. 2. 4. 3. 5.]\n",
      "sick_from_seas_vacc\n",
      "[2. 4. 1. 5. 3.]\n",
      "no_of_adults\n",
      "[0. 2. 1. 3.]\n",
      "no_of_children\n",
      "[0. 3. 2. 1.]\n"
     ]
    }
   ],
   "source": [
    "for col in features.columns:\n",
    "    if df[col].dtype=='float64':\n",
    "        print(col)\n",
    "        print(features[col].unique())"
   ]
  },
  {
   "cell_type": "markdown",
   "id": "96e6e176",
   "metadata": {
    "papermill": {
     "duration": 0.116785,
     "end_time": "2022-01-31T10:47:41.123717",
     "exception": false,
     "start_time": "2022-01-31T10:47:41.006932",
     "status": "completed"
    },
    "tags": []
   },
   "source": [
    "## Encoding the object"
   ]
  },
  {
   "cell_type": "code",
   "execution_count": 23,
   "id": "bd37d195",
   "metadata": {
    "papermill": {
     "duration": 0.12312,
     "end_time": "2022-01-31T10:47:41.363802",
     "exception": false,
     "start_time": "2022-01-31T10:47:41.240682",
     "status": "completed"
    },
    "tags": []
   },
   "outputs": [],
   "source": [
    "for col in features.columns:\n",
    "    if features[col].dtype=='object':\n",
    "        encoded = LabelEncoder()\n",
    "        encoded.fit(features[col])\n",
    "        features[col] = encoded.transform(features[col])"
   ]
  },
  {
   "cell_type": "code",
   "execution_count": 24,
   "id": "a2003cae",
   "metadata": {
    "papermill": {
     "duration": 0.139018,
     "end_time": "2022-01-31T10:47:41.983253",
     "exception": false,
     "start_time": "2022-01-31T10:47:41.844235",
     "status": "completed"
    },
    "tags": []
   },
   "outputs": [
    {
     "name": "stdout",
     "output_type": "stream",
     "text": [
      "<class 'pandas.core.frame.DataFrame'>\n",
      "RangeIndex: 26707 entries, 0 to 26706\n",
      "Data columns (total 32 columns):\n",
      " #   Column                     Non-Null Count  Dtype  \n",
      "---  ------                     --------------  -----  \n",
      " 0   h1n1_worry                 26707 non-null  float64\n",
      " 1   h1n1_awareness             26707 non-null  float64\n",
      " 2   antiviral_medication       26707 non-null  float64\n",
      " 3   contact_avoidance          26707 non-null  float64\n",
      " 4   bought_face_mask           26707 non-null  float64\n",
      " 5   wash_hands_frequently      26707 non-null  float64\n",
      " 6   avoid_large_gatherings     26707 non-null  float64\n",
      " 7   reduced_outside_home_cont  26707 non-null  float64\n",
      " 8   avoid_touch_face           26707 non-null  float64\n",
      " 9   dr_recc_h1n1_vacc          26707 non-null  float64\n",
      " 10  dr_recc_seasonal_vacc      26707 non-null  float64\n",
      " 11  chronic_medic_condition    26707 non-null  float64\n",
      " 12  cont_child_undr_6_mnths    26707 non-null  float64\n",
      " 13  is_health_worker           26707 non-null  float64\n",
      " 14  has_health_insur           26707 non-null  float64\n",
      " 15  is_h1n1_vacc_effective     26707 non-null  float64\n",
      " 16  is_h1n1_risky              26707 non-null  float64\n",
      " 17  sick_from_h1n1_vacc        26707 non-null  float64\n",
      " 18  is_seas_vacc_effective     26707 non-null  float64\n",
      " 19  is_seas_risky              26707 non-null  float64\n",
      " 20  sick_from_seas_vacc        26707 non-null  float64\n",
      " 21  age_bracket                26707 non-null  int64  \n",
      " 22  qualification              26707 non-null  int64  \n",
      " 23  race                       26707 non-null  int64  \n",
      " 24  sex                        26707 non-null  int64  \n",
      " 25  income_level               26707 non-null  int64  \n",
      " 26  marital_status             26707 non-null  int64  \n",
      " 27  housing_status             26707 non-null  int64  \n",
      " 28  employment                 26707 non-null  int64  \n",
      " 29  census_msa                 26707 non-null  int64  \n",
      " 30  no_of_adults               26707 non-null  float64\n",
      " 31  no_of_children             26707 non-null  float64\n",
      "dtypes: float64(23), int64(9)\n",
      "memory usage: 6.5 MB\n"
     ]
    }
   ],
   "source": [
    "features.info()"
   ]
  },
  {
   "cell_type": "markdown",
   "id": "c4d3e96d",
   "metadata": {
    "papermill": {
     "duration": 0.117558,
     "end_time": "2022-01-31T10:47:42.220674",
     "exception": false,
     "start_time": "2022-01-31T10:47:42.103116",
     "status": "completed"
    },
    "tags": []
   },
   "source": [
    "## Checking the dataset"
   ]
  },
  {
   "cell_type": "code",
   "execution_count": 25,
   "id": "578cdbb3",
   "metadata": {
    "papermill": {
     "duration": 0.153874,
     "end_time": "2022-01-31T10:47:42.491515",
     "exception": false,
     "start_time": "2022-01-31T10:47:42.337641",
     "status": "completed"
    },
    "tags": []
   },
   "outputs": [
    {
     "data": {
      "text/html": [
       "<div>\n",
       "<style scoped>\n",
       "    .dataframe tbody tr th:only-of-type {\n",
       "        vertical-align: middle;\n",
       "    }\n",
       "\n",
       "    .dataframe tbody tr th {\n",
       "        vertical-align: top;\n",
       "    }\n",
       "\n",
       "    .dataframe thead th {\n",
       "        text-align: right;\n",
       "    }\n",
       "</style>\n",
       "<table border=\"1\" class=\"dataframe\">\n",
       "  <thead>\n",
       "    <tr style=\"text-align: right;\">\n",
       "      <th></th>\n",
       "      <th>h1n1_worry</th>\n",
       "      <th>h1n1_awareness</th>\n",
       "      <th>antiviral_medication</th>\n",
       "      <th>contact_avoidance</th>\n",
       "      <th>bought_face_mask</th>\n",
       "      <th>wash_hands_frequently</th>\n",
       "      <th>avoid_large_gatherings</th>\n",
       "      <th>reduced_outside_home_cont</th>\n",
       "      <th>avoid_touch_face</th>\n",
       "      <th>dr_recc_h1n1_vacc</th>\n",
       "      <th>...</th>\n",
       "      <th>qualification</th>\n",
       "      <th>race</th>\n",
       "      <th>sex</th>\n",
       "      <th>income_level</th>\n",
       "      <th>marital_status</th>\n",
       "      <th>housing_status</th>\n",
       "      <th>employment</th>\n",
       "      <th>census_msa</th>\n",
       "      <th>no_of_adults</th>\n",
       "      <th>no_of_children</th>\n",
       "    </tr>\n",
       "  </thead>\n",
       "  <tbody>\n",
       "    <tr>\n",
       "      <th>0</th>\n",
       "      <td>1.0</td>\n",
       "      <td>0.0</td>\n",
       "      <td>0.0</td>\n",
       "      <td>0.0</td>\n",
       "      <td>0.0</td>\n",
       "      <td>0.0</td>\n",
       "      <td>0.0</td>\n",
       "      <td>1.0</td>\n",
       "      <td>1.0</td>\n",
       "      <td>0.0</td>\n",
       "      <td>...</td>\n",
       "      <td>1</td>\n",
       "      <td>3</td>\n",
       "      <td>0</td>\n",
       "      <td>2</td>\n",
       "      <td>2</td>\n",
       "      <td>1</td>\n",
       "      <td>2</td>\n",
       "      <td>2</td>\n",
       "      <td>0.0</td>\n",
       "      <td>0.0</td>\n",
       "    </tr>\n",
       "    <tr>\n",
       "      <th>1</th>\n",
       "      <td>3.0</td>\n",
       "      <td>2.0</td>\n",
       "      <td>0.0</td>\n",
       "      <td>1.0</td>\n",
       "      <td>0.0</td>\n",
       "      <td>1.0</td>\n",
       "      <td>0.0</td>\n",
       "      <td>1.0</td>\n",
       "      <td>1.0</td>\n",
       "      <td>0.0</td>\n",
       "      <td>...</td>\n",
       "      <td>0</td>\n",
       "      <td>3</td>\n",
       "      <td>1</td>\n",
       "      <td>2</td>\n",
       "      <td>2</td>\n",
       "      <td>2</td>\n",
       "      <td>0</td>\n",
       "      <td>0</td>\n",
       "      <td>0.0</td>\n",
       "      <td>0.0</td>\n",
       "    </tr>\n",
       "    <tr>\n",
       "      <th>2</th>\n",
       "      <td>1.0</td>\n",
       "      <td>1.0</td>\n",
       "      <td>0.0</td>\n",
       "      <td>1.0</td>\n",
       "      <td>0.0</td>\n",
       "      <td>0.0</td>\n",
       "      <td>0.0</td>\n",
       "      <td>0.0</td>\n",
       "      <td>0.0</td>\n",
       "      <td>0.0</td>\n",
       "      <td>...</td>\n",
       "      <td>2</td>\n",
       "      <td>3</td>\n",
       "      <td>1</td>\n",
       "      <td>0</td>\n",
       "      <td>2</td>\n",
       "      <td>1</td>\n",
       "      <td>0</td>\n",
       "      <td>0</td>\n",
       "      <td>2.0</td>\n",
       "      <td>0.0</td>\n",
       "    </tr>\n",
       "    <tr>\n",
       "      <th>3</th>\n",
       "      <td>1.0</td>\n",
       "      <td>1.0</td>\n",
       "      <td>0.0</td>\n",
       "      <td>1.0</td>\n",
       "      <td>0.0</td>\n",
       "      <td>1.0</td>\n",
       "      <td>1.0</td>\n",
       "      <td>0.0</td>\n",
       "      <td>0.0</td>\n",
       "      <td>0.0</td>\n",
       "      <td>...</td>\n",
       "      <td>0</td>\n",
       "      <td>3</td>\n",
       "      <td>0</td>\n",
       "      <td>2</td>\n",
       "      <td>2</td>\n",
       "      <td>2</td>\n",
       "      <td>2</td>\n",
       "      <td>1</td>\n",
       "      <td>0.0</td>\n",
       "      <td>0.0</td>\n",
       "    </tr>\n",
       "    <tr>\n",
       "      <th>4</th>\n",
       "      <td>2.0</td>\n",
       "      <td>1.0</td>\n",
       "      <td>0.0</td>\n",
       "      <td>1.0</td>\n",
       "      <td>0.0</td>\n",
       "      <td>1.0</td>\n",
       "      <td>1.0</td>\n",
       "      <td>0.0</td>\n",
       "      <td>1.0</td>\n",
       "      <td>0.0</td>\n",
       "      <td>...</td>\n",
       "      <td>4</td>\n",
       "      <td>3</td>\n",
       "      <td>0</td>\n",
       "      <td>0</td>\n",
       "      <td>0</td>\n",
       "      <td>1</td>\n",
       "      <td>0</td>\n",
       "      <td>0</td>\n",
       "      <td>1.0</td>\n",
       "      <td>0.0</td>\n",
       "    </tr>\n",
       "    <tr>\n",
       "      <th>5</th>\n",
       "      <td>3.0</td>\n",
       "      <td>1.0</td>\n",
       "      <td>0.0</td>\n",
       "      <td>1.0</td>\n",
       "      <td>0.0</td>\n",
       "      <td>1.0</td>\n",
       "      <td>0.0</td>\n",
       "      <td>0.0</td>\n",
       "      <td>1.0</td>\n",
       "      <td>0.0</td>\n",
       "      <td>...</td>\n",
       "      <td>0</td>\n",
       "      <td>3</td>\n",
       "      <td>1</td>\n",
       "      <td>0</td>\n",
       "      <td>0</td>\n",
       "      <td>1</td>\n",
       "      <td>0</td>\n",
       "      <td>1</td>\n",
       "      <td>2.0</td>\n",
       "      <td>3.0</td>\n",
       "    </tr>\n",
       "    <tr>\n",
       "      <th>6</th>\n",
       "      <td>0.0</td>\n",
       "      <td>0.0</td>\n",
       "      <td>0.0</td>\n",
       "      <td>0.0</td>\n",
       "      <td>0.0</td>\n",
       "      <td>0.0</td>\n",
       "      <td>0.0</td>\n",
       "      <td>0.0</td>\n",
       "      <td>0.0</td>\n",
       "      <td>0.0</td>\n",
       "      <td>...</td>\n",
       "      <td>1</td>\n",
       "      <td>3</td>\n",
       "      <td>1</td>\n",
       "      <td>0</td>\n",
       "      <td>2</td>\n",
       "      <td>1</td>\n",
       "      <td>0</td>\n",
       "      <td>0</td>\n",
       "      <td>0.0</td>\n",
       "      <td>0.0</td>\n",
       "    </tr>\n",
       "    <tr>\n",
       "      <th>7</th>\n",
       "      <td>1.0</td>\n",
       "      <td>0.0</td>\n",
       "      <td>0.0</td>\n",
       "      <td>1.0</td>\n",
       "      <td>0.0</td>\n",
       "      <td>1.0</td>\n",
       "      <td>0.0</td>\n",
       "      <td>0.0</td>\n",
       "      <td>1.0</td>\n",
       "      <td>1.0</td>\n",
       "      <td>...</td>\n",
       "      <td>4</td>\n",
       "      <td>3</td>\n",
       "      <td>0</td>\n",
       "      <td>0</td>\n",
       "      <td>0</td>\n",
       "      <td>1</td>\n",
       "      <td>0</td>\n",
       "      <td>2</td>\n",
       "      <td>2.0</td>\n",
       "      <td>0.0</td>\n",
       "    </tr>\n",
       "    <tr>\n",
       "      <th>8</th>\n",
       "      <td>0.0</td>\n",
       "      <td>2.0</td>\n",
       "      <td>0.0</td>\n",
       "      <td>1.0</td>\n",
       "      <td>0.0</td>\n",
       "      <td>1.0</td>\n",
       "      <td>1.0</td>\n",
       "      <td>1.0</td>\n",
       "      <td>1.0</td>\n",
       "      <td>0.0</td>\n",
       "      <td>...</td>\n",
       "      <td>2</td>\n",
       "      <td>3</td>\n",
       "      <td>1</td>\n",
       "      <td>1</td>\n",
       "      <td>0</td>\n",
       "      <td>1</td>\n",
       "      <td>0</td>\n",
       "      <td>0</td>\n",
       "      <td>1.0</td>\n",
       "      <td>0.0</td>\n",
       "    </tr>\n",
       "    <tr>\n",
       "      <th>9</th>\n",
       "      <td>2.0</td>\n",
       "      <td>1.0</td>\n",
       "      <td>0.0</td>\n",
       "      <td>1.0</td>\n",
       "      <td>0.0</td>\n",
       "      <td>0.0</td>\n",
       "      <td>1.0</td>\n",
       "      <td>0.0</td>\n",
       "      <td>1.0</td>\n",
       "      <td>0.0</td>\n",
       "      <td>...</td>\n",
       "      <td>0</td>\n",
       "      <td>3</td>\n",
       "      <td>1</td>\n",
       "      <td>0</td>\n",
       "      <td>2</td>\n",
       "      <td>1</td>\n",
       "      <td>2</td>\n",
       "      <td>0</td>\n",
       "      <td>0.0</td>\n",
       "      <td>0.0</td>\n",
       "    </tr>\n",
       "  </tbody>\n",
       "</table>\n",
       "<p>10 rows × 32 columns</p>\n",
       "</div>"
      ],
      "text/plain": [
       "   h1n1_worry  h1n1_awareness  antiviral_medication  contact_avoidance  \\\n",
       "0         1.0             0.0                   0.0                0.0   \n",
       "1         3.0             2.0                   0.0                1.0   \n",
       "2         1.0             1.0                   0.0                1.0   \n",
       "3         1.0             1.0                   0.0                1.0   \n",
       "4         2.0             1.0                   0.0                1.0   \n",
       "5         3.0             1.0                   0.0                1.0   \n",
       "6         0.0             0.0                   0.0                0.0   \n",
       "7         1.0             0.0                   0.0                1.0   \n",
       "8         0.0             2.0                   0.0                1.0   \n",
       "9         2.0             1.0                   0.0                1.0   \n",
       "\n",
       "   bought_face_mask  wash_hands_frequently  avoid_large_gatherings  \\\n",
       "0               0.0                    0.0                     0.0   \n",
       "1               0.0                    1.0                     0.0   \n",
       "2               0.0                    0.0                     0.0   \n",
       "3               0.0                    1.0                     1.0   \n",
       "4               0.0                    1.0                     1.0   \n",
       "5               0.0                    1.0                     0.0   \n",
       "6               0.0                    0.0                     0.0   \n",
       "7               0.0                    1.0                     0.0   \n",
       "8               0.0                    1.0                     1.0   \n",
       "9               0.0                    0.0                     1.0   \n",
       "\n",
       "   reduced_outside_home_cont  avoid_touch_face  dr_recc_h1n1_vacc  ...  \\\n",
       "0                        1.0               1.0                0.0  ...   \n",
       "1                        1.0               1.0                0.0  ...   \n",
       "2                        0.0               0.0                0.0  ...   \n",
       "3                        0.0               0.0                0.0  ...   \n",
       "4                        0.0               1.0                0.0  ...   \n",
       "5                        0.0               1.0                0.0  ...   \n",
       "6                        0.0               0.0                0.0  ...   \n",
       "7                        0.0               1.0                1.0  ...   \n",
       "8                        1.0               1.0                0.0  ...   \n",
       "9                        0.0               1.0                0.0  ...   \n",
       "\n",
       "   qualification  race  sex  income_level  marital_status  housing_status  \\\n",
       "0              1     3    0             2               2               1   \n",
       "1              0     3    1             2               2               2   \n",
       "2              2     3    1             0               2               1   \n",
       "3              0     3    0             2               2               2   \n",
       "4              4     3    0             0               0               1   \n",
       "5              0     3    1             0               0               1   \n",
       "6              1     3    1             0               2               1   \n",
       "7              4     3    0             0               0               1   \n",
       "8              2     3    1             1               0               1   \n",
       "9              0     3    1             0               2               1   \n",
       "\n",
       "   employment  census_msa  no_of_adults  no_of_children  \n",
       "0           2           2           0.0             0.0  \n",
       "1           0           0           0.0             0.0  \n",
       "2           0           0           2.0             0.0  \n",
       "3           2           1           0.0             0.0  \n",
       "4           0           0           1.0             0.0  \n",
       "5           0           1           2.0             3.0  \n",
       "6           0           0           0.0             0.0  \n",
       "7           0           2           2.0             0.0  \n",
       "8           0           0           1.0             0.0  \n",
       "9           2           0           0.0             0.0  \n",
       "\n",
       "[10 rows x 32 columns]"
      ]
     },
     "execution_count": 25,
     "metadata": {},
     "output_type": "execute_result"
    }
   ],
   "source": [
    "features.head(10)"
   ]
  },
  {
   "cell_type": "markdown",
   "id": "f3ee25a3",
   "metadata": {
    "papermill": {
     "duration": 0.116764,
     "end_time": "2022-01-31T10:47:42.725381",
     "exception": false,
     "start_time": "2022-01-31T10:47:42.608617",
     "status": "completed"
    },
    "tags": []
   },
   "source": [
    "# EXPLORATORY DATA ANALYSIS"
   ]
  },
  {
   "cell_type": "markdown",
   "id": "fe15b616",
   "metadata": {
    "papermill": {
     "duration": 0.116874,
     "end_time": "2022-01-31T10:47:42.958730",
     "exception": false,
     "start_time": "2022-01-31T10:47:42.841856",
     "status": "completed"
    },
    "tags": []
   },
   "source": [
    "## Checking the statistical information"
   ]
  },
  {
   "cell_type": "code",
   "execution_count": 26,
   "id": "cab4c5a7",
   "metadata": {
    "papermill": {
     "duration": 0.261842,
     "end_time": "2022-01-31T10:47:43.339422",
     "exception": false,
     "start_time": "2022-01-31T10:47:43.077580",
     "status": "completed"
    },
    "tags": []
   },
   "outputs": [
    {
     "data": {
      "text/html": [
       "<div>\n",
       "<style scoped>\n",
       "    .dataframe tbody tr th:only-of-type {\n",
       "        vertical-align: middle;\n",
       "    }\n",
       "\n",
       "    .dataframe tbody tr th {\n",
       "        vertical-align: top;\n",
       "    }\n",
       "\n",
       "    .dataframe thead th {\n",
       "        text-align: right;\n",
       "    }\n",
       "</style>\n",
       "<table border=\"1\" class=\"dataframe\">\n",
       "  <thead>\n",
       "    <tr style=\"text-align: right;\">\n",
       "      <th></th>\n",
       "      <th>h1n1_worry</th>\n",
       "      <th>h1n1_awareness</th>\n",
       "      <th>antiviral_medication</th>\n",
       "      <th>contact_avoidance</th>\n",
       "      <th>bought_face_mask</th>\n",
       "      <th>wash_hands_frequently</th>\n",
       "      <th>avoid_large_gatherings</th>\n",
       "      <th>reduced_outside_home_cont</th>\n",
       "      <th>avoid_touch_face</th>\n",
       "      <th>dr_recc_h1n1_vacc</th>\n",
       "      <th>...</th>\n",
       "      <th>qualification</th>\n",
       "      <th>race</th>\n",
       "      <th>sex</th>\n",
       "      <th>income_level</th>\n",
       "      <th>marital_status</th>\n",
       "      <th>housing_status</th>\n",
       "      <th>employment</th>\n",
       "      <th>census_msa</th>\n",
       "      <th>no_of_adults</th>\n",
       "      <th>no_of_children</th>\n",
       "    </tr>\n",
       "  </thead>\n",
       "  <tbody>\n",
       "    <tr>\n",
       "      <th>count</th>\n",
       "      <td>26707.000000</td>\n",
       "      <td>26707.000000</td>\n",
       "      <td>26707.000000</td>\n",
       "      <td>26707.000000</td>\n",
       "      <td>26707.000000</td>\n",
       "      <td>26707.000000</td>\n",
       "      <td>26707.000000</td>\n",
       "      <td>26707.000000</td>\n",
       "      <td>26707.000000</td>\n",
       "      <td>26707.000000</td>\n",
       "      <td>...</td>\n",
       "      <td>26707.000000</td>\n",
       "      <td>26707.000000</td>\n",
       "      <td>26707.000000</td>\n",
       "      <td>26707.000000</td>\n",
       "      <td>26707.000000</td>\n",
       "      <td>26707.000000</td>\n",
       "      <td>26707.000000</td>\n",
       "      <td>26707.000000</td>\n",
       "      <td>26707.000000</td>\n",
       "      <td>26707.000000</td>\n",
       "    </tr>\n",
       "    <tr>\n",
       "      <th>mean</th>\n",
       "      <td>1.619800</td>\n",
       "      <td>1.261392</td>\n",
       "      <td>0.048714</td>\n",
       "      <td>0.727749</td>\n",
       "      <td>0.068933</td>\n",
       "      <td>0.825888</td>\n",
       "      <td>0.357472</td>\n",
       "      <td>0.336279</td>\n",
       "      <td>0.678811</td>\n",
       "      <td>0.202494</td>\n",
       "      <td>...</td>\n",
       "      <td>2.057513</td>\n",
       "      <td>2.570300</td>\n",
       "      <td>0.406223</td>\n",
       "      <td>0.953795</td>\n",
       "      <td>0.932190</td>\n",
       "      <td>1.145542</td>\n",
       "      <td>0.984161</td>\n",
       "      <td>0.833489</td>\n",
       "      <td>0.887558</td>\n",
       "      <td>0.538922</td>\n",
       "    </tr>\n",
       "    <tr>\n",
       "      <th>std</th>\n",
       "      <td>0.909016</td>\n",
       "      <td>0.617047</td>\n",
       "      <td>0.215273</td>\n",
       "      <td>0.445127</td>\n",
       "      <td>0.253345</td>\n",
       "      <td>0.379213</td>\n",
       "      <td>0.479264</td>\n",
       "      <td>0.472444</td>\n",
       "      <td>0.466942</td>\n",
       "      <td>0.401866</td>\n",
       "      <td>...</td>\n",
       "      <td>1.435626</td>\n",
       "      <td>0.923226</td>\n",
       "      <td>0.491136</td>\n",
       "      <td>1.113444</td>\n",
       "      <td>0.970936</td>\n",
       "      <td>0.526582</td>\n",
       "      <td>1.052723</td>\n",
       "      <td>0.823313</td>\n",
       "      <td>0.749980</td>\n",
       "      <td>0.924918</td>\n",
       "    </tr>\n",
       "    <tr>\n",
       "      <th>min</th>\n",
       "      <td>0.000000</td>\n",
       "      <td>0.000000</td>\n",
       "      <td>0.000000</td>\n",
       "      <td>0.000000</td>\n",
       "      <td>0.000000</td>\n",
       "      <td>0.000000</td>\n",
       "      <td>0.000000</td>\n",
       "      <td>0.000000</td>\n",
       "      <td>0.000000</td>\n",
       "      <td>0.000000</td>\n",
       "      <td>...</td>\n",
       "      <td>0.000000</td>\n",
       "      <td>0.000000</td>\n",
       "      <td>0.000000</td>\n",
       "      <td>0.000000</td>\n",
       "      <td>0.000000</td>\n",
       "      <td>0.000000</td>\n",
       "      <td>0.000000</td>\n",
       "      <td>0.000000</td>\n",
       "      <td>0.000000</td>\n",
       "      <td>0.000000</td>\n",
       "    </tr>\n",
       "    <tr>\n",
       "      <th>25%</th>\n",
       "      <td>1.000000</td>\n",
       "      <td>1.000000</td>\n",
       "      <td>0.000000</td>\n",
       "      <td>0.000000</td>\n",
       "      <td>0.000000</td>\n",
       "      <td>1.000000</td>\n",
       "      <td>0.000000</td>\n",
       "      <td>0.000000</td>\n",
       "      <td>0.000000</td>\n",
       "      <td>0.000000</td>\n",
       "      <td>...</td>\n",
       "      <td>1.000000</td>\n",
       "      <td>3.000000</td>\n",
       "      <td>0.000000</td>\n",
       "      <td>0.000000</td>\n",
       "      <td>0.000000</td>\n",
       "      <td>1.000000</td>\n",
       "      <td>0.000000</td>\n",
       "      <td>0.000000</td>\n",
       "      <td>0.000000</td>\n",
       "      <td>0.000000</td>\n",
       "    </tr>\n",
       "    <tr>\n",
       "      <th>50%</th>\n",
       "      <td>2.000000</td>\n",
       "      <td>1.000000</td>\n",
       "      <td>0.000000</td>\n",
       "      <td>1.000000</td>\n",
       "      <td>0.000000</td>\n",
       "      <td>1.000000</td>\n",
       "      <td>0.000000</td>\n",
       "      <td>0.000000</td>\n",
       "      <td>1.000000</td>\n",
       "      <td>0.000000</td>\n",
       "      <td>...</td>\n",
       "      <td>2.000000</td>\n",
       "      <td>3.000000</td>\n",
       "      <td>0.000000</td>\n",
       "      <td>1.000000</td>\n",
       "      <td>0.000000</td>\n",
       "      <td>1.000000</td>\n",
       "      <td>0.000000</td>\n",
       "      <td>1.000000</td>\n",
       "      <td>1.000000</td>\n",
       "      <td>0.000000</td>\n",
       "    </tr>\n",
       "    <tr>\n",
       "      <th>75%</th>\n",
       "      <td>2.000000</td>\n",
       "      <td>2.000000</td>\n",
       "      <td>0.000000</td>\n",
       "      <td>1.000000</td>\n",
       "      <td>0.000000</td>\n",
       "      <td>1.000000</td>\n",
       "      <td>1.000000</td>\n",
       "      <td>1.000000</td>\n",
       "      <td>1.000000</td>\n",
       "      <td>0.000000</td>\n",
       "      <td>...</td>\n",
       "      <td>4.000000</td>\n",
       "      <td>3.000000</td>\n",
       "      <td>1.000000</td>\n",
       "      <td>2.000000</td>\n",
       "      <td>2.000000</td>\n",
       "      <td>1.000000</td>\n",
       "      <td>2.000000</td>\n",
       "      <td>2.000000</td>\n",
       "      <td>1.000000</td>\n",
       "      <td>1.000000</td>\n",
       "    </tr>\n",
       "    <tr>\n",
       "      <th>max</th>\n",
       "      <td>3.000000</td>\n",
       "      <td>2.000000</td>\n",
       "      <td>1.000000</td>\n",
       "      <td>1.000000</td>\n",
       "      <td>1.000000</td>\n",
       "      <td>1.000000</td>\n",
       "      <td>1.000000</td>\n",
       "      <td>1.000000</td>\n",
       "      <td>1.000000</td>\n",
       "      <td>1.000000</td>\n",
       "      <td>...</td>\n",
       "      <td>4.000000</td>\n",
       "      <td>3.000000</td>\n",
       "      <td>1.000000</td>\n",
       "      <td>3.000000</td>\n",
       "      <td>2.000000</td>\n",
       "      <td>2.000000</td>\n",
       "      <td>3.000000</td>\n",
       "      <td>2.000000</td>\n",
       "      <td>3.000000</td>\n",
       "      <td>3.000000</td>\n",
       "    </tr>\n",
       "  </tbody>\n",
       "</table>\n",
       "<p>8 rows × 32 columns</p>\n",
       "</div>"
      ],
      "text/plain": [
       "         h1n1_worry  h1n1_awareness  antiviral_medication  contact_avoidance  \\\n",
       "count  26707.000000    26707.000000          26707.000000       26707.000000   \n",
       "mean       1.619800        1.261392              0.048714           0.727749   \n",
       "std        0.909016        0.617047              0.215273           0.445127   \n",
       "min        0.000000        0.000000              0.000000           0.000000   \n",
       "25%        1.000000        1.000000              0.000000           0.000000   \n",
       "50%        2.000000        1.000000              0.000000           1.000000   \n",
       "75%        2.000000        2.000000              0.000000           1.000000   \n",
       "max        3.000000        2.000000              1.000000           1.000000   \n",
       "\n",
       "       bought_face_mask  wash_hands_frequently  avoid_large_gatherings  \\\n",
       "count      26707.000000           26707.000000            26707.000000   \n",
       "mean           0.068933               0.825888                0.357472   \n",
       "std            0.253345               0.379213                0.479264   \n",
       "min            0.000000               0.000000                0.000000   \n",
       "25%            0.000000               1.000000                0.000000   \n",
       "50%            0.000000               1.000000                0.000000   \n",
       "75%            0.000000               1.000000                1.000000   \n",
       "max            1.000000               1.000000                1.000000   \n",
       "\n",
       "       reduced_outside_home_cont  avoid_touch_face  dr_recc_h1n1_vacc  ...  \\\n",
       "count               26707.000000      26707.000000       26707.000000  ...   \n",
       "mean                    0.336279          0.678811           0.202494  ...   \n",
       "std                     0.472444          0.466942           0.401866  ...   \n",
       "min                     0.000000          0.000000           0.000000  ...   \n",
       "25%                     0.000000          0.000000           0.000000  ...   \n",
       "50%                     0.000000          1.000000           0.000000  ...   \n",
       "75%                     1.000000          1.000000           0.000000  ...   \n",
       "max                     1.000000          1.000000           1.000000  ...   \n",
       "\n",
       "       qualification          race           sex  income_level  \\\n",
       "count   26707.000000  26707.000000  26707.000000  26707.000000   \n",
       "mean        2.057513      2.570300      0.406223      0.953795   \n",
       "std         1.435626      0.923226      0.491136      1.113444   \n",
       "min         0.000000      0.000000      0.000000      0.000000   \n",
       "25%         1.000000      3.000000      0.000000      0.000000   \n",
       "50%         2.000000      3.000000      0.000000      1.000000   \n",
       "75%         4.000000      3.000000      1.000000      2.000000   \n",
       "max         4.000000      3.000000      1.000000      3.000000   \n",
       "\n",
       "       marital_status  housing_status    employment    census_msa  \\\n",
       "count    26707.000000    26707.000000  26707.000000  26707.000000   \n",
       "mean         0.932190        1.145542      0.984161      0.833489   \n",
       "std          0.970936        0.526582      1.052723      0.823313   \n",
       "min          0.000000        0.000000      0.000000      0.000000   \n",
       "25%          0.000000        1.000000      0.000000      0.000000   \n",
       "50%          0.000000        1.000000      0.000000      1.000000   \n",
       "75%          2.000000        1.000000      2.000000      2.000000   \n",
       "max          2.000000        2.000000      3.000000      2.000000   \n",
       "\n",
       "       no_of_adults  no_of_children  \n",
       "count  26707.000000    26707.000000  \n",
       "mean       0.887558        0.538922  \n",
       "std        0.749980        0.924918  \n",
       "min        0.000000        0.000000  \n",
       "25%        0.000000        0.000000  \n",
       "50%        1.000000        0.000000  \n",
       "75%        1.000000        1.000000  \n",
       "max        3.000000        3.000000  \n",
       "\n",
       "[8 rows x 32 columns]"
      ]
     },
     "execution_count": 26,
     "metadata": {},
     "output_type": "execute_result"
    }
   ],
   "source": [
    "features.describe()"
   ]
  },
  {
   "cell_type": "markdown",
   "id": "00abb033",
   "metadata": {
    "papermill": {
     "duration": 0.120109,
     "end_time": "2022-01-31T10:47:43.578559",
     "exception": false,
     "start_time": "2022-01-31T10:47:43.458450",
     "status": "completed"
    },
    "tags": []
   },
   "source": [
    "## Finding the outliers in dataset"
   ]
  },
  {
   "cell_type": "code",
   "execution_count": 27,
   "id": "672cb7ae",
   "metadata": {
    "papermill": {
     "duration": 0.129698,
     "end_time": "2022-01-31T10:47:43.828052",
     "exception": false,
     "start_time": "2022-01-31T10:47:43.698354",
     "status": "completed"
    },
    "tags": []
   },
   "outputs": [],
   "source": [
    "# Function to find the outliers\n",
    "\n",
    "def findoutliers(column):\n",
    "    outliers=[]\n",
    "    Q1=column.quantile(.25)\n",
    "    Q3=column.quantile(.75)\n",
    "    IQR=Q3-Q1\n",
    "    lower_limit=Q1-(1.5*IQR)\n",
    "    upper_limit=Q3+(1.5*IQR)\n",
    "    for out1 in column:\n",
    "        if out1>upper_limit or out1 <lower_limit:\n",
    "            outliers.append(out1)\n",
    "            \n",
    "    return np.array(outliers)  "
   ]
  },
  {
   "cell_type": "code",
   "execution_count": 28,
   "id": "5d675855",
   "metadata": {
    "papermill": {
     "duration": 0.16305,
     "end_time": "2022-01-31T10:47:44.110112",
     "exception": false,
     "start_time": "2022-01-31T10:47:43.947062",
     "status": "completed"
    },
    "tags": []
   },
   "outputs": [
    {
     "name": "stdout",
     "output_type": "stream",
     "text": [
      "1125\n",
      "1747\n"
     ]
    }
   ],
   "source": [
    "print(len(findoutliers(features.no_of_adults)))\n",
    "print(len(findoutliers(features.no_of_children)))"
   ]
  },
  {
   "cell_type": "code",
   "execution_count": 29,
   "id": "24626ded",
   "metadata": {
    "papermill": {
     "duration": 0.146035,
     "end_time": "2022-01-31T10:47:44.377010",
     "exception": false,
     "start_time": "2022-01-31T10:47:44.230975",
     "status": "completed"
    },
    "tags": []
   },
   "outputs": [
    {
     "data": {
      "text/plain": [
       "array([3., 3., 3., ..., 3., 3., 3.])"
      ]
     },
     "execution_count": 29,
     "metadata": {},
     "output_type": "execute_result"
    }
   ],
   "source": [
    "findoutliers(features.no_of_adults)"
   ]
  },
  {
   "cell_type": "code",
   "execution_count": 30,
   "id": "12b4b6a7",
   "metadata": {
    "papermill": {
     "duration": 0.145557,
     "end_time": "2022-01-31T10:47:44.641894",
     "exception": false,
     "start_time": "2022-01-31T10:47:44.496337",
     "status": "completed"
    },
    "tags": []
   },
   "outputs": [
    {
     "data": {
      "text/plain": [
       "array([3., 3., 3., ..., 3., 3., 3.])"
      ]
     },
     "execution_count": 30,
     "metadata": {},
     "output_type": "execute_result"
    }
   ],
   "source": [
    "findoutliers(features.no_of_children)"
   ]
  },
  {
   "cell_type": "code",
   "execution_count": 31,
   "id": "c91a0f1d",
   "metadata": {
    "papermill": {
     "duration": 0.348479,
     "end_time": "2022-01-31T10:47:45.109382",
     "exception": false,
     "start_time": "2022-01-31T10:47:44.760903",
     "status": "completed"
    },
    "tags": []
   },
   "outputs": [
    {
     "data": {
      "text/plain": [
       "<AxesSubplot:xlabel='no_of_adults'>"
      ]
     },
     "execution_count": 31,
     "metadata": {},
     "output_type": "execute_result"
    },
    {
     "data": {
      "image/png": "[encoded data removed]",
      "text/plain": [
       "<Figure size 432x288 with 1 Axes>"
      ]
     },
     "metadata": {
      "needs_background": "light"
     },
     "output_type": "display_data"
    }
   ],
   "source": [
    "# Visualising the outliers\n",
    "sns.boxplot(features.no_of_adults)"
   ]
  },
  {
   "cell_type": "code",
   "execution_count": 32,
   "id": "dc271cde",
   "metadata": {
    "papermill": {
     "duration": 0.31949,
     "end_time": "2022-01-31T10:47:45.549856",
     "exception": false,
     "start_time": "2022-01-31T10:47:45.230366",
     "status": "completed"
    },
    "tags": []
   },
   "outputs": [
    {
     "data": {
      "text/plain": [
       "<AxesSubplot:xlabel='no_of_children'>"
      ]
     },
     "execution_count": 32,
     "metadata": {},
     "output_type": "execute_result"
    },
    {
     "data": {
      "image/png": "[encoded data removed]",
      "text/plain": [
       "<Figure size 432x288 with 1 Axes>"
      ]
     },
     "metadata": {
      "needs_background": "light"
     },
     "output_type": "display_data"
    }
   ],
   "source": [
    "sns.boxplot(features.no_of_children)"
   ]
  },
  {
   "cell_type": "markdown",
   "id": "818587dc",
   "metadata": {
    "papermill": {
     "duration": 0.120968,
     "end_time": "2022-01-31T10:47:45.792248",
     "exception": false,
     "start_time": "2022-01-31T10:47:45.671280",
     "status": "completed"
    },
    "tags": []
   },
   "source": [
    "#### There are outliers in the dataset but we are not removing them as some algorithms are not sensitive to outliers"
   ]
  },
  {
   "cell_type": "markdown",
   "id": "f03e3a43",
   "metadata": {
    "papermill": {
     "duration": 0.122092,
     "end_time": "2022-01-31T10:47:46.037467",
     "exception": false,
     "start_time": "2022-01-31T10:47:45.915375",
     "status": "completed"
    },
    "tags": []
   },
   "source": [
    "# Visualising numerical data"
   ]
  },
  {
   "cell_type": "code",
   "execution_count": 33,
   "id": "e1e3be7d",
   "metadata": {
    "papermill": {
     "duration": 0.567756,
     "end_time": "2022-01-31T10:47:46.726323",
     "exception": false,
     "start_time": "2022-01-31T10:47:46.158567",
     "status": "completed"
    },
    "tags": []
   },
   "outputs": [
    {
     "data": {
      "text/plain": [
       "<seaborn.axisgrid.FacetGrid at 0x7fff31404a60>"
      ]
     },
     "execution_count": 33,
     "metadata": {},
     "output_type": "execute_result"
    },
    {
     "data": {
      "image/png": "[encoded data removed]",
      "text/plain": [
       "<Figure size 360x360 with 1 Axes>"
      ]
     },
     "metadata": {
      "needs_background": "light"
     },
     "output_type": "display_data"
    }
   ],
   "source": [
    "sns.displot(features.no_of_adults)"
   ]
  },
  {
   "cell_type": "markdown",
   "id": "3e7862f2",
   "metadata": {
    "papermill": {
     "duration": 0.124308,
     "end_time": "2022-01-31T10:47:46.974218",
     "exception": false,
     "start_time": "2022-01-31T10:47:46.849910",
     "status": "completed"
    },
    "tags": []
   },
   "source": [
    "#### Number of other adults in household is mostly 1."
   ]
  },
  {
   "cell_type": "code",
   "execution_count": 35,
   "id": "41dc739e",
   "metadata": {
    "papermill": {
     "duration": 0.573736,
     "end_time": "2022-01-31T10:47:47.669915",
     "exception": false,
     "start_time": "2022-01-31T10:47:47.096179",
     "status": "completed"
    },
    "tags": []
   },
   "outputs": [
    {
     "data": {
      "text/plain": [
       "<seaborn.axisgrid.FacetGrid at 0x7fff312f0280>"
      ]
     },
     "execution_count": 35,
     "metadata": {},
     "output_type": "execute_result"
    },
    {
     "data": {
      "image/png": "[encoded data removed]",
      "text/plain": [
       "<Figure size 360x360 with 1 Axes>"
      ]
     },
     "metadata": {
      "needs_background": "light"
     },
     "output_type": "display_data"
    }
   ],
   "source": [
    "sns.displot(features.no_of_children,color='red')"
   ]
  },
  {
   "cell_type": "markdown",
   "id": "1d9baff5",
   "metadata": {
    "papermill": {
     "duration": 0.12581,
     "end_time": "2022-01-31T10:47:47.920948",
     "exception": false,
     "start_time": "2022-01-31T10:47:47.795138",
     "status": "completed"
    },
    "tags": []
   },
   "source": [
    "#### Number of children in household is mostly 0."
   ]
  },
  {
   "cell_type": "markdown",
   "id": "3a7ee48c",
   "metadata": {
    "papermill": {
     "duration": 0.12329,
     "end_time": "2022-01-31T10:47:48.168310",
     "exception": false,
     "start_time": "2022-01-31T10:47:48.045020",
     "status": "completed"
    },
    "tags": []
   },
   "source": [
    "## Visualising categorical data"
   ]
  },
  {
   "cell_type": "code",
   "execution_count": 38,
   "id": "b0f8f2b7-e634-44a7-be1c-7e9c460add15",
   "metadata": {},
   "outputs": [
    {
     "name": "stdout",
     "output_type": "stream",
     "text": [
      "---------------------------------------------------------------------------------------------------------------------------------------------\n",
      "Categories of age_bracket data \n",
      "4    6843\n",
      "3    5563\n",
      "2    5238\n",
      "0    5215\n",
      "1    3848\n",
      "Name: age_bracket, dtype: int64\n",
      "Visualising Categories of age_bracket data \n"
     ]
    },
    {
     "data": {
      "image/png": "[encoded data removed]",
      "text/plain": [
       "<Figure size 360x360 with 1 Axes>"
      ]
     },
     "metadata": {
      "needs_background": "light"
     },
     "output_type": "display_data"
    },
    {
     "name": "stdout",
     "output_type": "stream",
     "text": [
      "---------------------------------------------------------------------------------------------------------------------------------------------\n",
      "Categories of qualification data \n",
      "2    10097\n",
      "4     7043\n",
      "0     5797\n",
      "1     2363\n",
      "3     1407\n",
      "Name: qualification, dtype: int64\n",
      "Visualising Categories of qualification data \n"
     ]
    },
    {
     "data": {
      "image/png": "[encoded data removed]",
      "text/plain": [
       "<Figure size 360x360 with 1 Axes>"
      ]
     },
     "metadata": {
      "needs_background": "light"
     },
     "output_type": "display_data"
    },
    {
     "name": "stdout",
     "output_type": "stream",
     "text": [
      "---------------------------------------------------------------------------------------------------------------------------------------------\n",
      "Categories of race data \n",
      "3    21222\n",
      "0     2118\n",
      "1     1755\n",
      "2     1612\n",
      "Name: race, dtype: int64\n",
      "Visualising Categories of race data \n"
     ]
    },
    {
     "data": {
      "image/png": "[encoded data removed]",
      "text/plain": [
       "<Figure size 360x360 with 1 Axes>"
      ]
     },
     "metadata": {
      "needs_background": "light"
     },
     "output_type": "display_data"
    },
    {
     "name": "stdout",
     "output_type": "stream",
     "text": [
      "---------------------------------------------------------------------------------------------------------------------------------------------\n",
      "Categories of sex data \n",
      "0    15858\n",
      "1    10849\n",
      "Name: sex, dtype: int64\n",
      "Visualising Categories of sex data \n"
     ]
    },
    {
     "data": {
      "image/png": "[encoded data removed]",
      "text/plain": [
       "<Figure size 360x360 with 1 Axes>"
      ]
     },
     "metadata": {
      "needs_background": "light"
     },
     "output_type": "display_data"
    },
    {
     "name": "stdout",
     "output_type": "stream",
     "text": [
      "---------------------------------------------------------------------------------------------------------------------------------------------\n",
      "Categories of income_level data \n",
      "0    12777\n",
      "1     6810\n",
      "3     4423\n",
      "2     2697\n",
      "Name: income_level, dtype: int64\n",
      "Visualising Categories of income_level data \n"
     ]
    },
    {
     "data": {
      "image/png": "[encoded data removed]",
      "text/plain": [
       "<Figure size 360x360 with 1 Axes>"
      ]
     },
     "metadata": {
      "needs_background": "light"
     },
     "output_type": "display_data"
    },
    {
     "name": "stdout",
     "output_type": "stream",
     "text": [
      "---------------------------------------------------------------------------------------------------------------------------------------------\n",
      "Categories of marital_status data \n",
      "0    13555\n",
      "2    11744\n",
      "1     1408\n",
      "Name: marital_status, dtype: int64\n",
      "Visualising Categories of marital_status data \n"
     ]
    },
    {
     "data": {
      "image/png": "[encoded data removed]",
      "text/plain": [
       "<Figure size 360x360 with 1 Axes>"
      ]
     },
     "metadata": {
      "needs_background": "light"
     },
     "output_type": "display_data"
    },
    {
     "name": "stdout",
     "output_type": "stream",
     "text": [
      "---------------------------------------------------------------------------------------------------------------------------------------------\n",
      "Categories of housing_status data \n",
      "1    18736\n",
      "2     5929\n",
      "0     2042\n",
      "Name: housing_status, dtype: int64\n",
      "Visualising Categories of housing_status data \n"
     ]
    },
    {
     "data": {
      "image/png": "[encoded data removed]",
      "text/plain": [
       "<Figure size 360x360 with 1 Axes>"
      ]
     },
     "metadata": {
      "needs_background": "light"
     },
     "output_type": "display_data"
    },
    {
     "name": "stdout",
     "output_type": "stream",
     "text": [
      "---------------------------------------------------------------------------------------------------------------------------------------------\n",
      "Categories of employment data \n",
      "0    13560\n",
      "2    10231\n",
      "1     1463\n",
      "3     1453\n",
      "Name: employment, dtype: int64\n",
      "Visualising Categories of employment data \n"
     ]
    },
    {
     "data": {
      "image/png": "[encoded data removed]",
      "text/plain": [
       "<Figure size 360x360 with 1 Axes>"
      ]
     },
     "metadata": {
      "needs_background": "light"
     },
     "output_type": "display_data"
    },
    {
     "name": "stdout",
     "output_type": "stream",
     "text": [
      "---------------------------------------------------------------------------------------------------------------------------------------------\n",
      "Categories of census_msa data \n",
      "0    11645\n",
      "1     7864\n",
      "2     7198\n",
      "Name: census_msa, dtype: int64\n",
      "Visualising Categories of census_msa data \n"
     ]
    },
    {
     "data": {
      "image/png": "[encoded data removed]",
      "text/plain": [
       "<Figure size 360x360 with 1 Axes>"
      ]
     },
     "metadata": {
      "needs_background": "light"
     },
     "output_type": "display_data"
    }
   ],
   "source": [
    "for col in features.columns:\n",
    "    if features[col].dtype=='int64' and col!='unique_id' :\n",
    "        print('---------------------------------------------------------------------------------------------------------------------------------------------')\n",
    "        print('Categories of '+str(col)+' data ')\n",
    "        print(features[col].value_counts())\n",
    "        print('Visualising Categories of '+str(col)+' data ')\n",
    "        sns.catplot(col, data = features, kind = \"count\")\n",
    "        plt.show()"
   ]
  },
  {
   "cell_type": "markdown",
   "id": "a873432b-578d-4289-b84d-b372a76b1032",
   "metadata": {
    "papermill": {
     "duration": 0.157224,
     "end_time": "2022-01-31T10:48:11.876389",
     "exception": false,
     "start_time": "2022-01-31T10:48:11.719165",
     "status": "completed"
    },
    "tags": []
   },
   "source": [
    "## Insights From Data \n",
    "#### Most of the people are somewhat concerned about h1n1 vaccine.\n",
    "\n",
    "#### Almost 90% of people have little or lots of knowledge about h1n1 vaccine.\n",
    "\n",
    "#### Almost non of the people took antiviral medications.\n",
    "\n",
    "#### 70% of people have avoided contact with people with symptoms.\n",
    "\n",
    "#### Very few people have bought a face mask.\n",
    "\n",
    "#### 80% of people have frequently washed their hands.\n",
    "\n",
    "#### Few people have reduced time at large gatherings.\n",
    "\n",
    "#### Only few people have reduced contact with people outside their household.\n",
    "\n",
    "#### 70% of people have avoided touching eyes, nose, or mouth.\n",
    "\n",
    "#### Doctors recommended the h1n1 vaccine to only 20% of people.\n",
    "\n",
    "#### Doctors recommended seasonal vaccine to only 30% of people.\n",
    "\n",
    "#### Only less than 30% of people have chronic medical conditions.\n",
    "\n",
    "#### Very few people had close contact with child under 6 months.\n",
    "\n",
    "#### Very few people work in healthcare.\n",
    "\n",
    "#### Almost everyone has health insurance.\n",
    "\n",
    "#### Most of the people think h1n1 is somewhat effective.\n",
    "\n",
    "#### Most people believe the h1n1 vaccine has somewhat low or very low risk.\n",
    "\n",
    "#### Most people are not at all worried or not very worried of getting sick from h1n1 vaccine.\n",
    "\n",
    "#### Most people think seasonal vaccine is somewhat or very effective.\n",
    "\n",
    "#### Majority of people think the risk of seasonal vaccine are somewhat low.\n",
    "\n",
    "#### Majority of people are not at all worried of getting sick from seasonal vaccine."
   ]
  },
  {
   "cell_type": "markdown",
   "id": "0be4cfc8",
   "metadata": {
    "papermill": {
     "duration": 0.153001,
     "end_time": "2022-01-31T10:48:12.185514",
     "exception": false,
     "start_time": "2022-01-31T10:48:12.032513",
     "status": "completed"
    },
    "tags": []
   },
   "source": [
    "## Visualising labels"
   ]
  },
  {
   "cell_type": "code",
   "execution_count": 39,
   "id": "2ea72932",
   "metadata": {
    "papermill": {
     "duration": 0.367157,
     "end_time": "2022-01-31T10:48:12.706544",
     "exception": false,
     "start_time": "2022-01-31T10:48:12.339387",
     "status": "completed"
    },
    "tags": []
   },
   "outputs": [
    {
     "data": {
      "text/plain": [
       "<seaborn.axisgrid.FacetGrid at 0x7fff30bd2a60>"
      ]
     },
     "execution_count": 39,
     "metadata": {},
     "output_type": "execute_result"
    },
    {
     "data": {
      "image/png": "[encoded data removed]",
      "text/plain": [
       "<Figure size 360x360 with 1 Axes>"
      ]
     },
     "metadata": {
      "needs_background": "light"
     },
     "output_type": "display_data"
    }
   ],
   "source": [
    "sns.catplot('h1n1_vaccine', data = labels, kind = \"count\")"
   ]
  },
  {
   "cell_type": "markdown",
   "id": "1317396a",
   "metadata": {
    "papermill": {
     "duration": 0.154683,
     "end_time": "2022-01-31T10:48:13.601504",
     "exception": false,
     "start_time": "2022-01-31T10:48:13.446821",
     "status": "completed"
    },
    "tags": []
   },
   "source": [
    "# FEATURE SCALING"
   ]
  },
  {
   "cell_type": "markdown",
   "id": "17cbbf7b",
   "metadata": {
    "papermill": {
     "duration": 0.154433,
     "end_time": "2022-01-31T10:48:13.913294",
     "exception": false,
     "start_time": "2022-01-31T10:48:13.758861",
     "status": "completed"
    },
    "tags": []
   },
   "source": [
    "## Using Min Max scaler"
   ]
  },
  {
   "cell_type": "code",
   "execution_count": 40,
   "id": "2ba80674",
   "metadata": {
    "papermill": {
     "duration": 0.180901,
     "end_time": "2022-01-31T10:48:14.250651",
     "exception": false,
     "start_time": "2022-01-31T10:48:14.069750",
     "status": "completed"
    },
    "tags": []
   },
   "outputs": [],
   "source": [
    "scaler = MinMaxScaler()\n",
    "features = scaler.fit_transform(features)"
   ]
  },
  {
   "cell_type": "code",
   "execution_count": 41,
   "id": "6b5b0cb4",
   "metadata": {
    "papermill": {
     "duration": 0.165079,
     "end_time": "2022-01-31T10:48:14.571969",
     "exception": false,
     "start_time": "2022-01-31T10:48:14.406890",
     "status": "completed"
    },
    "tags": []
   },
   "outputs": [],
   "source": [
    "features = pd.DataFrame(features)\n",
    "col_name = [ 'h1n1_worry', 'h1n1_awareness', 'antiviral_medication',\n",
    "            'contact_avoidance', 'bought_face_mask', 'wash_hands_frequently',\n",
    "            'avoid_large_gatherings', 'reduced_outside_home_cont', 'avoid_touch_face', \n",
    "            'dr_recc_h1n1_vacc', 'dr_recc_seasonal_vacc', 'chronic_medic_condition', 'cont_child_undr_6_mnths',\n",
    "            'is_health_worker', 'has_health_insur', 'is_h1n1_vacc_effective', 'is_h1n1_risky', 'sick_from_h1n1_vacc',\n",
    "            'is_seas_vacc_effective', 'is_seas_risky', 'sick_from_seas_vacc', 'age_bracket', 'qualification',\n",
    "            'race', 'sex', 'income_level', 'marital_status', 'housing_status', 'employment',\n",
    "            'census_msa', 'no_of_adults', 'no_of_children']\n",
    "features.columns = col_name"
   ]
  },
  {
   "cell_type": "markdown",
   "id": "acbc4a9a",
   "metadata": {
    "papermill": {
     "duration": 0.15563,
     "end_time": "2022-01-31T10:48:14.883133",
     "exception": false,
     "start_time": "2022-01-31T10:48:14.727503",
     "status": "completed"
    },
    "tags": []
   },
   "source": [
    "# FEATURE SELECTION"
   ]
  },
  {
   "cell_type": "markdown",
   "id": "b97b7de4",
   "metadata": {
    "papermill": {
     "duration": 0.155067,
     "end_time": "2022-01-31T10:48:15.196045",
     "exception": false,
     "start_time": "2022-01-31T10:48:15.040978",
     "status": "completed"
    },
    "tags": []
   },
   "source": [
    "## Independent and target variables"
   ]
  },
  {
   "cell_type": "code",
   "execution_count": 42,
   "id": "728547ba",
   "metadata": {
    "papermill": {
     "duration": 0.1627,
     "end_time": "2022-01-31T10:48:15.512650",
     "exception": false,
     "start_time": "2022-01-31T10:48:15.349950",
     "status": "completed"
    },
    "tags": []
   },
   "outputs": [],
   "source": [
    "X = features\n",
    "y = labels"
   ]
  },
  {
   "cell_type": "markdown",
   "id": "2f1db69f",
   "metadata": {
    "papermill": {
     "duration": 0.155272,
     "end_time": "2022-01-31T10:48:15.822678",
     "exception": false,
     "start_time": "2022-01-31T10:48:15.667406",
     "status": "completed"
    },
    "tags": []
   },
   "source": [
    "## Applying SelectKBest class"
   ]
  },
  {
   "cell_type": "code",
   "execution_count": 43,
   "id": "9bec3471",
   "metadata": {
    "papermill": {
     "duration": 0.18182,
     "end_time": "2022-01-31T10:48:16.160389",
     "exception": false,
     "start_time": "2022-01-31T10:48:15.978569",
     "status": "completed"
    },
    "tags": []
   },
   "outputs": [],
   "source": [
    "bestfeatures = SelectKBest(score_func=chi2, k=30)"
   ]
  },
  {
   "cell_type": "code",
   "execution_count": 44,
   "id": "dfc86288",
   "metadata": {
    "papermill": {
     "duration": 0.181057,
     "end_time": "2022-01-31T10:48:16.510564",
     "exception": false,
     "start_time": "2022-01-31T10:48:16.329507",
     "status": "completed"
    },
    "tags": []
   },
   "outputs": [],
   "source": [
    "fit = bestfeatures.fit(X,y)"
   ]
  },
  {
   "cell_type": "code",
   "execution_count": 45,
   "id": "2a3d92fd",
   "metadata": {
    "papermill": {
     "duration": 0.173829,
     "end_time": "2022-01-31T10:48:16.890193",
     "exception": false,
     "start_time": "2022-01-31T10:48:16.716364",
     "status": "completed"
    },
    "tags": []
   },
   "outputs": [
    {
     "name": "stdout",
     "output_type": "stream",
     "text": [
      "                        Specs        Score\n",
      "9           dr_recc_h1n1_vacc  3307.810188\n",
      "10      dr_recc_seasonal_vacc   892.499456\n",
      "16              is_h1n1_risky   836.299170\n",
      "13           is_health_worker   672.405011\n",
      "19              is_seas_risky   477.567746\n",
      "11    chronic_medic_condition   172.886102\n",
      "15     is_h1n1_vacc_effective   167.344330\n",
      "4            bought_face_mask   123.284462\n",
      "12    cont_child_undr_6_mnths   109.342915\n",
      "18     is_seas_vacc_effective    80.935639\n",
      "0                  h1n1_worry    67.119631\n",
      "1              h1n1_awareness    55.904059\n",
      "17        sick_from_h1n1_vacc    50.293380\n",
      "8            avoid_touch_face    43.065378\n",
      "2        antiviral_medication    41.109698\n",
      "26             marital_status    34.131547\n",
      "5       wash_hands_frequently    25.856864\n",
      "3           contact_avoidance    15.950408\n",
      "21                age_bracket    10.942374\n",
      "7   reduced_outside_home_cont     8.641545\n",
      "24                        sex     6.776568\n",
      "6      avoid_large_gatherings     5.614840\n",
      "23                       race     4.977121\n",
      "14           has_health_insur     3.046439\n",
      "22              qualification     2.883969\n"
     ]
    }
   ],
   "source": [
    "dfscores = pd.DataFrame(fit.scores_)\n",
    "dfcolumns = pd.DataFrame(X.columns)\n",
    "\n",
    "#concat two dataframes for better visualization\n",
    "\n",
    "featureScores = pd.concat([dfcolumns,dfscores],axis=1)\n",
    "featureScores.columns = ['Specs','Score']\n",
    "\n",
    "print(featureScores.nlargest(25,'Score'))"
   ]
  },
  {
   "cell_type": "code",
   "execution_count": 46,
   "id": "05a7522f",
   "metadata": {
    "papermill": {
     "duration": 0.169552,
     "end_time": "2022-01-31T10:48:17.214909",
     "exception": false,
     "start_time": "2022-01-31T10:48:17.045357",
     "status": "completed"
    },
    "tags": []
   },
   "outputs": [],
   "source": [
    "features_kbest = features.iloc[:,list(featureScores.nlargest(25,'Score').index)]"
   ]
  },
  {
   "cell_type": "markdown",
   "id": "4eaf05d4",
   "metadata": {
    "papermill": {
     "duration": 0.153935,
     "end_time": "2022-01-31T10:48:17.522595",
     "exception": false,
     "start_time": "2022-01-31T10:48:17.368660",
     "status": "completed"
    },
    "tags": []
   },
   "source": [
    "## Feature importance using ExtraTrees Classifier"
   ]
  },
  {
   "cell_type": "code",
   "execution_count": 50,
   "id": "88a1e5e1",
   "metadata": {
    "papermill": {
     "duration": 6.139563,
     "end_time": "2022-01-31T10:48:23.815691",
     "exception": false,
     "start_time": "2022-01-31T10:48:17.676128",
     "status": "completed"
    },
    "tags": []
   },
   "outputs": [
    {
     "name": "stdout",
     "output_type": "stream",
     "text": [
      "[0.03871803 0.03016238 0.00960239 0.01973294 0.01116479 0.01252629\n",
      " 0.02010783 0.02075725 0.01948212 0.11462124 0.02731402 0.02023479\n",
      " 0.01239172 0.02313213 0.00754538 0.06073742 0.06502785 0.03796207\n",
      " 0.03442543 0.04684036 0.03681037 0.04280837 0.03673711 0.02316561\n",
      " 0.02437666 0.03433096 0.02138255 0.02386603 0.02734215 0.03750348\n",
      " 0.0311014  0.02808886]\n"
     ]
    },
    {
     "data": {
      "image/png": "[encoded data removed]",
      "text/plain": [
       "<Figure size 720x720 with 1 Axes>"
      ]
     },
     "metadata": {
      "needs_background": "light"
     },
     "output_type": "display_data"
    }
   ],
   "source": [
    "model = ExtraTreesClassifier()\n",
    "model.fit(X,y)\n",
    "print(model.feature_importances_)\n",
    "plt.figure(figsize=(10,10))\n",
    "feat_importances = pd.Series(model.feature_importances_, index=X.columns)\n",
    "feat_importances.nlargest(25).plot(kind='barh')\n",
    "plt.show()"
   ]
  },
  {
   "cell_type": "code",
   "execution_count": 51,
   "id": "e3b5e7d3",
   "metadata": {
    "papermill": {
     "duration": 0.169528,
     "end_time": "2022-01-31T10:48:24.144637",
     "exception": false,
     "start_time": "2022-01-31T10:48:23.975109",
     "status": "completed"
    },
    "tags": []
   },
   "outputs": [],
   "source": [
    "features_tree = features.loc[:,col_name]"
   ]
  },
  {
   "cell_type": "markdown",
   "id": "83281985",
   "metadata": {
    "papermill": {
     "duration": 0.157326,
     "end_time": "2022-01-31T10:48:24.458185",
     "exception": false,
     "start_time": "2022-01-31T10:48:24.300859",
     "status": "completed"
    },
    "tags": []
   },
   "source": [
    "## Correlation Matrix using Heatmap"
   ]
  },
  {
   "cell_type": "code",
   "execution_count": 52,
   "id": "5377b1bf",
   "metadata": {
    "papermill": {
     "duration": 0.193503,
     "end_time": "2022-01-31T10:48:24.806803",
     "exception": false,
     "start_time": "2022-01-31T10:48:24.613300",
     "status": "completed"
    },
    "tags": []
   },
   "outputs": [
    {
     "data": {
      "text/plain": [
       "h1n1_worry                   0.121574\n",
       "h1n1_awareness               0.117771\n",
       "antiviral_medication         0.040226\n",
       "contact_avoidance            0.046837\n",
       "bought_face_mask             0.070413\n",
       "wash_hands_frequently        0.074570\n",
       "avoid_large_gatherings       0.018089\n",
       "reduced_outside_home_cont    0.022080\n",
       "avoid_touch_face             0.070855\n",
       "dr_recc_h1n1_vacc            0.394086\n",
       "dr_recc_seasonal_vacc        0.218976\n",
       "chronic_medic_condition      0.094360\n",
       "cont_child_undr_6_mnths      0.066712\n",
       "is_health_worker             0.168056\n",
       "has_health_insur             0.041891\n",
       "is_h1n1_vacc_effective       0.267352\n",
       "is_h1n1_risky                0.320580\n",
       "sick_from_h1n1_vacc          0.074580\n",
       "is_seas_vacc_effective       0.177799\n",
       "is_seas_risky                0.255955\n",
       "sick_from_seas_vacc          0.008415\n",
       "age_bracket                  0.041074\n",
       "qualification                0.020766\n",
       "race                         0.041061\n",
       "sex                         -0.020672\n",
       "income_level                -0.012236\n",
       "marital_status              -0.050275\n",
       "housing_status              -0.017872\n",
       "employment                  -0.010098\n",
       "census_msa                   0.000420\n",
       "no_of_adults                 0.007323\n",
       "no_of_children              -0.003944\n",
       "dtype: float64"
      ]
     },
     "execution_count": 52,
     "metadata": {},
     "output_type": "execute_result"
    }
   ],
   "source": [
    "features.corrwith(labels.h1n1_vaccine)"
   ]
  },
  {
   "cell_type": "code",
   "execution_count": 53,
   "id": "12b54ad7",
   "metadata": {
    "papermill": {
     "duration": 7.91886,
     "end_time": "2022-01-31T10:48:33.233534",
     "exception": false,
     "start_time": "2022-01-31T10:48:25.314674",
     "status": "completed"
    },
    "tags": []
   },
   "outputs": [
    {
     "data": {
      "image/png": "[encoded data removed]",
      "text/plain": [
       "<Figure size 1440x1440 with 2 Axes>"
      ]
     },
     "metadata": {
      "needs_background": "light"
     },
     "output_type": "display_data"
    }
   ],
   "source": [
    "#get correlations of each features in dataset\n",
    "\n",
    "df2=features.copy()\n",
    "\n",
    "corr_matrix = df2.corr().abs()\n",
    "\n",
    "# Select upper triangle of correlation matrix\n",
    "upper = corr_matrix.where(np.triu(np.ones(corr_matrix.shape), k=1).astype(bool))\n",
    "\n",
    "# Find features with correlation greater than 0.5\n",
    "to_drop = [column for column in upper.columns if any(upper[column] > 0.35)]\n",
    "\n",
    "# Drop features \n",
    "df2.drop(to_drop, axis=1, inplace=True)\n",
    "#df2.info()\n",
    "\n",
    "%matplotlib inline\n",
    "opt = df2.corr()\n",
    "top_cor_feature = opt.index\n",
    "plt.figure(figsize=(20,20))\n",
    "k=sns.heatmap(df2[top_cor_feature].corr(),annot=True,cmap='RdYlGn')\n",
    "k.tick_params(axis='x', colors='red')\n",
    "plt.show()\n",
    "\n"
   ]
  },
  {
   "cell_type": "markdown",
   "id": "2a7f280c",
   "metadata": {
    "papermill": {
     "duration": 0.177494,
     "end_time": "2022-01-31T10:48:33.994162",
     "exception": false,
     "start_time": "2022-01-31T10:48:33.816668",
     "status": "completed"
    },
    "tags": []
   },
   "source": [
    "# MODEL"
   ]
  },
  {
   "cell_type": "markdown",
   "id": "b2e17b0b",
   "metadata": {
    "jp-MarkdownHeadingCollapsed": true,
    "papermill": {
     "duration": 0.17498,
     "end_time": "2022-01-31T10:48:34.346066",
     "exception": false,
     "start_time": "2022-01-31T10:48:34.171086",
     "status": "completed"
    },
    "tags": []
   },
   "source": [
    "## Defining independent and dependent variables"
   ]
  },
  {
   "cell_type": "code",
   "execution_count": 55,
   "id": "f90008c3",
   "metadata": {
    "papermill": {
     "duration": 0.183558,
     "end_time": "2022-01-31T10:48:34.702819",
     "exception": false,
     "start_time": "2022-01-31T10:48:34.519261",
     "status": "completed"
    },
    "tags": []
   },
   "outputs": [],
   "source": [
    "X = df2\n",
    "y = labels"
   ]
  },
  {
   "cell_type": "code",
   "execution_count": 56,
   "id": "6651eb94",
   "metadata": {
    "papermill": {
     "duration": 0.219771,
     "end_time": "2022-01-31T10:48:35.098445",
     "exception": false,
     "start_time": "2022-01-31T10:48:34.878674",
     "status": "completed"
    },
    "tags": []
   },
   "outputs": [
    {
     "data": {
      "text/html": [
       "<div>\n",
       "<style scoped>\n",
       "    .dataframe tbody tr th:only-of-type {\n",
       "        vertical-align: middle;\n",
       "    }\n",
       "\n",
       "    .dataframe tbody tr th {\n",
       "        vertical-align: top;\n",
       "    }\n",
       "\n",
       "    .dataframe thead th {\n",
       "        text-align: right;\n",
       "    }\n",
       "</style>\n",
       "<table border=\"1\" class=\"dataframe\">\n",
       "  <thead>\n",
       "    <tr style=\"text-align: right;\">\n",
       "      <th></th>\n",
       "      <th>h1n1_worry</th>\n",
       "      <th>h1n1_awareness</th>\n",
       "      <th>antiviral_medication</th>\n",
       "      <th>contact_avoidance</th>\n",
       "      <th>bought_face_mask</th>\n",
       "      <th>wash_hands_frequently</th>\n",
       "      <th>avoid_large_gatherings</th>\n",
       "      <th>dr_recc_h1n1_vacc</th>\n",
       "      <th>chronic_medic_condition</th>\n",
       "      <th>cont_child_undr_6_mnths</th>\n",
       "      <th>...</th>\n",
       "      <th>is_h1n1_vacc_effective</th>\n",
       "      <th>age_bracket</th>\n",
       "      <th>qualification</th>\n",
       "      <th>race</th>\n",
       "      <th>sex</th>\n",
       "      <th>income_level</th>\n",
       "      <th>marital_status</th>\n",
       "      <th>housing_status</th>\n",
       "      <th>employment</th>\n",
       "      <th>census_msa</th>\n",
       "    </tr>\n",
       "  </thead>\n",
       "  <tbody>\n",
       "    <tr>\n",
       "      <th>0</th>\n",
       "      <td>0.333333</td>\n",
       "      <td>0.0</td>\n",
       "      <td>0.0</td>\n",
       "      <td>0.0</td>\n",
       "      <td>0.0</td>\n",
       "      <td>0.0</td>\n",
       "      <td>0.0</td>\n",
       "      <td>0.0</td>\n",
       "      <td>0.0</td>\n",
       "      <td>0.0</td>\n",
       "      <td>...</td>\n",
       "      <td>0.50</td>\n",
       "      <td>0.75</td>\n",
       "      <td>0.25</td>\n",
       "      <td>1.000000</td>\n",
       "      <td>0.0</td>\n",
       "      <td>0.666667</td>\n",
       "      <td>1.0</td>\n",
       "      <td>0.5</td>\n",
       "      <td>0.666667</td>\n",
       "      <td>1.0</td>\n",
       "    </tr>\n",
       "    <tr>\n",
       "      <th>1</th>\n",
       "      <td>1.000000</td>\n",
       "      <td>1.0</td>\n",
       "      <td>0.0</td>\n",
       "      <td>1.0</td>\n",
       "      <td>0.0</td>\n",
       "      <td>1.0</td>\n",
       "      <td>0.0</td>\n",
       "      <td>0.0</td>\n",
       "      <td>0.0</td>\n",
       "      <td>0.0</td>\n",
       "      <td>...</td>\n",
       "      <td>1.00</td>\n",
       "      <td>0.25</td>\n",
       "      <td>0.00</td>\n",
       "      <td>1.000000</td>\n",
       "      <td>1.0</td>\n",
       "      <td>0.666667</td>\n",
       "      <td>1.0</td>\n",
       "      <td>1.0</td>\n",
       "      <td>0.000000</td>\n",
       "      <td>0.0</td>\n",
       "    </tr>\n",
       "    <tr>\n",
       "      <th>2</th>\n",
       "      <td>0.333333</td>\n",
       "      <td>0.5</td>\n",
       "      <td>0.0</td>\n",
       "      <td>1.0</td>\n",
       "      <td>0.0</td>\n",
       "      <td>0.0</td>\n",
       "      <td>0.0</td>\n",
       "      <td>0.0</td>\n",
       "      <td>1.0</td>\n",
       "      <td>0.0</td>\n",
       "      <td>...</td>\n",
       "      <td>0.50</td>\n",
       "      <td>0.00</td>\n",
       "      <td>0.50</td>\n",
       "      <td>1.000000</td>\n",
       "      <td>1.0</td>\n",
       "      <td>0.000000</td>\n",
       "      <td>1.0</td>\n",
       "      <td>0.5</td>\n",
       "      <td>0.000000</td>\n",
       "      <td>0.0</td>\n",
       "    </tr>\n",
       "    <tr>\n",
       "      <th>3</th>\n",
       "      <td>0.333333</td>\n",
       "      <td>0.5</td>\n",
       "      <td>0.0</td>\n",
       "      <td>1.0</td>\n",
       "      <td>0.0</td>\n",
       "      <td>1.0</td>\n",
       "      <td>1.0</td>\n",
       "      <td>0.0</td>\n",
       "      <td>1.0</td>\n",
       "      <td>0.0</td>\n",
       "      <td>...</td>\n",
       "      <td>0.50</td>\n",
       "      <td>1.00</td>\n",
       "      <td>0.00</td>\n",
       "      <td>1.000000</td>\n",
       "      <td>0.0</td>\n",
       "      <td>0.666667</td>\n",
       "      <td>1.0</td>\n",
       "      <td>1.0</td>\n",
       "      <td>0.666667</td>\n",
       "      <td>0.5</td>\n",
       "    </tr>\n",
       "    <tr>\n",
       "      <th>4</th>\n",
       "      <td>0.666667</td>\n",
       "      <td>0.5</td>\n",
       "      <td>0.0</td>\n",
       "      <td>1.0</td>\n",
       "      <td>0.0</td>\n",
       "      <td>1.0</td>\n",
       "      <td>1.0</td>\n",
       "      <td>0.0</td>\n",
       "      <td>0.0</td>\n",
       "      <td>0.0</td>\n",
       "      <td>...</td>\n",
       "      <td>0.50</td>\n",
       "      <td>0.50</td>\n",
       "      <td>1.00</td>\n",
       "      <td>1.000000</td>\n",
       "      <td>0.0</td>\n",
       "      <td>0.000000</td>\n",
       "      <td>0.0</td>\n",
       "      <td>0.5</td>\n",
       "      <td>0.000000</td>\n",
       "      <td>0.0</td>\n",
       "    </tr>\n",
       "    <tr>\n",
       "      <th>...</th>\n",
       "      <td>...</td>\n",
       "      <td>...</td>\n",
       "      <td>...</td>\n",
       "      <td>...</td>\n",
       "      <td>...</td>\n",
       "      <td>...</td>\n",
       "      <td>...</td>\n",
       "      <td>...</td>\n",
       "      <td>...</td>\n",
       "      <td>...</td>\n",
       "      <td>...</td>\n",
       "      <td>...</td>\n",
       "      <td>...</td>\n",
       "      <td>...</td>\n",
       "      <td>...</td>\n",
       "      <td>...</td>\n",
       "      <td>...</td>\n",
       "      <td>...</td>\n",
       "      <td>...</td>\n",
       "      <td>...</td>\n",
       "      <td>...</td>\n",
       "    </tr>\n",
       "    <tr>\n",
       "      <th>26702</th>\n",
       "      <td>0.666667</td>\n",
       "      <td>0.0</td>\n",
       "      <td>0.0</td>\n",
       "      <td>1.0</td>\n",
       "      <td>0.0</td>\n",
       "      <td>0.0</td>\n",
       "      <td>0.0</td>\n",
       "      <td>0.0</td>\n",
       "      <td>0.0</td>\n",
       "      <td>0.0</td>\n",
       "      <td>...</td>\n",
       "      <td>0.50</td>\n",
       "      <td>1.00</td>\n",
       "      <td>1.00</td>\n",
       "      <td>1.000000</td>\n",
       "      <td>0.0</td>\n",
       "      <td>0.000000</td>\n",
       "      <td>1.0</td>\n",
       "      <td>0.5</td>\n",
       "      <td>0.666667</td>\n",
       "      <td>1.0</td>\n",
       "    </tr>\n",
       "    <tr>\n",
       "      <th>26703</th>\n",
       "      <td>0.333333</td>\n",
       "      <td>1.0</td>\n",
       "      <td>0.0</td>\n",
       "      <td>1.0</td>\n",
       "      <td>0.0</td>\n",
       "      <td>1.0</td>\n",
       "      <td>0.0</td>\n",
       "      <td>1.0</td>\n",
       "      <td>0.0</td>\n",
       "      <td>0.0</td>\n",
       "      <td>...</td>\n",
       "      <td>0.75</td>\n",
       "      <td>0.00</td>\n",
       "      <td>0.50</td>\n",
       "      <td>1.000000</td>\n",
       "      <td>1.0</td>\n",
       "      <td>0.000000</td>\n",
       "      <td>1.0</td>\n",
       "      <td>1.0</td>\n",
       "      <td>0.000000</td>\n",
       "      <td>0.5</td>\n",
       "    </tr>\n",
       "    <tr>\n",
       "      <th>26704</th>\n",
       "      <td>0.666667</td>\n",
       "      <td>1.0</td>\n",
       "      <td>0.0</td>\n",
       "      <td>1.0</td>\n",
       "      <td>1.0</td>\n",
       "      <td>1.0</td>\n",
       "      <td>1.0</td>\n",
       "      <td>0.0</td>\n",
       "      <td>0.0</td>\n",
       "      <td>0.0</td>\n",
       "      <td>...</td>\n",
       "      <td>0.75</td>\n",
       "      <td>0.75</td>\n",
       "      <td>1.00</td>\n",
       "      <td>1.000000</td>\n",
       "      <td>0.0</td>\n",
       "      <td>1.000000</td>\n",
       "      <td>1.0</td>\n",
       "      <td>0.5</td>\n",
       "      <td>0.333333</td>\n",
       "      <td>0.0</td>\n",
       "    </tr>\n",
       "    <tr>\n",
       "      <th>26705</th>\n",
       "      <td>0.333333</td>\n",
       "      <td>0.5</td>\n",
       "      <td>0.0</td>\n",
       "      <td>0.0</td>\n",
       "      <td>0.0</td>\n",
       "      <td>0.0</td>\n",
       "      <td>0.0</td>\n",
       "      <td>0.0</td>\n",
       "      <td>0.0</td>\n",
       "      <td>0.0</td>\n",
       "      <td>...</td>\n",
       "      <td>0.50</td>\n",
       "      <td>0.00</td>\n",
       "      <td>1.00</td>\n",
       "      <td>0.333333</td>\n",
       "      <td>0.0</td>\n",
       "      <td>0.000000</td>\n",
       "      <td>0.0</td>\n",
       "      <td>1.0</td>\n",
       "      <td>0.000000</td>\n",
       "      <td>1.0</td>\n",
       "    </tr>\n",
       "    <tr>\n",
       "      <th>26706</th>\n",
       "      <td>0.000000</td>\n",
       "      <td>0.0</td>\n",
       "      <td>0.0</td>\n",
       "      <td>1.0</td>\n",
       "      <td>0.0</td>\n",
       "      <td>0.0</td>\n",
       "      <td>0.0</td>\n",
       "      <td>0.0</td>\n",
       "      <td>0.0</td>\n",
       "      <td>0.0</td>\n",
       "      <td>...</td>\n",
       "      <td>1.00</td>\n",
       "      <td>1.00</td>\n",
       "      <td>1.00</td>\n",
       "      <td>1.000000</td>\n",
       "      <td>1.0</td>\n",
       "      <td>0.000000</td>\n",
       "      <td>0.0</td>\n",
       "      <td>0.5</td>\n",
       "      <td>0.666667</td>\n",
       "      <td>0.5</td>\n",
       "    </tr>\n",
       "  </tbody>\n",
       "</table>\n",
       "<p>26707 rows × 22 columns</p>\n",
       "</div>"
      ],
      "text/plain": [
       "       h1n1_worry  h1n1_awareness  antiviral_medication  contact_avoidance  \\\n",
       "0        0.333333             0.0                   0.0                0.0   \n",
       "1        1.000000             1.0                   0.0                1.0   \n",
       "2        0.333333             0.5                   0.0                1.0   \n",
       "3        0.333333             0.5                   0.0                1.0   \n",
       "4        0.666667             0.5                   0.0                1.0   \n",
       "...           ...             ...                   ...                ...   \n",
       "26702    0.666667             0.0                   0.0                1.0   \n",
       "26703    0.333333             1.0                   0.0                1.0   \n",
       "26704    0.666667             1.0                   0.0                1.0   \n",
       "26705    0.333333             0.5                   0.0                0.0   \n",
       "26706    0.000000             0.0                   0.0                1.0   \n",
       "\n",
       "       bought_face_mask  wash_hands_frequently  avoid_large_gatherings  \\\n",
       "0                   0.0                    0.0                     0.0   \n",
       "1                   0.0                    1.0                     0.0   \n",
       "2                   0.0                    0.0                     0.0   \n",
       "3                   0.0                    1.0                     1.0   \n",
       "4                   0.0                    1.0                     1.0   \n",
       "...                 ...                    ...                     ...   \n",
       "26702               0.0                    0.0                     0.0   \n",
       "26703               0.0                    1.0                     0.0   \n",
       "26704               1.0                    1.0                     1.0   \n",
       "26705               0.0                    0.0                     0.0   \n",
       "26706               0.0                    0.0                     0.0   \n",
       "\n",
       "       dr_recc_h1n1_vacc  chronic_medic_condition  cont_child_undr_6_mnths  \\\n",
       "0                    0.0                      0.0                      0.0   \n",
       "1                    0.0                      0.0                      0.0   \n",
       "2                    0.0                      1.0                      0.0   \n",
       "3                    0.0                      1.0                      0.0   \n",
       "4                    0.0                      0.0                      0.0   \n",
       "...                  ...                      ...                      ...   \n",
       "26702                0.0                      0.0                      0.0   \n",
       "26703                1.0                      0.0                      0.0   \n",
       "26704                0.0                      0.0                      0.0   \n",
       "26705                0.0                      0.0                      0.0   \n",
       "26706                0.0                      0.0                      0.0   \n",
       "\n",
       "       ...  is_h1n1_vacc_effective  age_bracket  qualification      race  sex  \\\n",
       "0      ...                    0.50         0.75           0.25  1.000000  0.0   \n",
       "1      ...                    1.00         0.25           0.00  1.000000  1.0   \n",
       "2      ...                    0.50         0.00           0.50  1.000000  1.0   \n",
       "3      ...                    0.50         1.00           0.00  1.000000  0.0   \n",
       "4      ...                    0.50         0.50           1.00  1.000000  0.0   \n",
       "...    ...                     ...          ...            ...       ...  ...   \n",
       "26702  ...                    0.50         1.00           1.00  1.000000  0.0   \n",
       "26703  ...                    0.75         0.00           0.50  1.000000  1.0   \n",
       "26704  ...                    0.75         0.75           1.00  1.000000  0.0   \n",
       "26705  ...                    0.50         0.00           1.00  0.333333  0.0   \n",
       "26706  ...                    1.00         1.00           1.00  1.000000  1.0   \n",
       "\n",
       "       income_level  marital_status  housing_status  employment  census_msa  \n",
       "0          0.666667             1.0             0.5    0.666667         1.0  \n",
       "1          0.666667             1.0             1.0    0.000000         0.0  \n",
       "2          0.000000             1.0             0.5    0.000000         0.0  \n",
       "3          0.666667             1.0             1.0    0.666667         0.5  \n",
       "4          0.000000             0.0             0.5    0.000000         0.0  \n",
       "...             ...             ...             ...         ...         ...  \n",
       "26702      0.000000             1.0             0.5    0.666667         1.0  \n",
       "26703      0.000000             1.0             1.0    0.000000         0.5  \n",
       "26704      1.000000             1.0             0.5    0.333333         0.0  \n",
       "26705      0.000000             0.0             1.0    0.000000         1.0  \n",
       "26706      0.000000             0.0             0.5    0.666667         0.5  \n",
       "\n",
       "[26707 rows x 22 columns]"
      ]
     },
     "execution_count": 56,
     "metadata": {},
     "output_type": "execute_result"
    }
   ],
   "source": [
    "X"
   ]
  },
  {
   "cell_type": "code",
   "execution_count": 57,
   "id": "4f7b19c2",
   "metadata": {
    "papermill": {
     "duration": 0.189049,
     "end_time": "2022-01-31T10:48:35.465441",
     "exception": false,
     "start_time": "2022-01-31T10:48:35.276392",
     "status": "completed"
    },
    "tags": []
   },
   "outputs": [
    {
     "data": {
      "text/html": [
       "<div>\n",
       "<style scoped>\n",
       "    .dataframe tbody tr th:only-of-type {\n",
       "        vertical-align: middle;\n",
       "    }\n",
       "\n",
       "    .dataframe tbody tr th {\n",
       "        vertical-align: top;\n",
       "    }\n",
       "\n",
       "    .dataframe thead th {\n",
       "        text-align: right;\n",
       "    }\n",
       "</style>\n",
       "<table border=\"1\" class=\"dataframe\">\n",
       "  <thead>\n",
       "    <tr style=\"text-align: right;\">\n",
       "      <th></th>\n",
       "      <th>h1n1_vaccine</th>\n",
       "    </tr>\n",
       "  </thead>\n",
       "  <tbody>\n",
       "    <tr>\n",
       "      <th>0</th>\n",
       "      <td>0</td>\n",
       "    </tr>\n",
       "    <tr>\n",
       "      <th>1</th>\n",
       "      <td>0</td>\n",
       "    </tr>\n",
       "    <tr>\n",
       "      <th>2</th>\n",
       "      <td>0</td>\n",
       "    </tr>\n",
       "    <tr>\n",
       "      <th>3</th>\n",
       "      <td>0</td>\n",
       "    </tr>\n",
       "    <tr>\n",
       "      <th>4</th>\n",
       "      <td>0</td>\n",
       "    </tr>\n",
       "    <tr>\n",
       "      <th>...</th>\n",
       "      <td>...</td>\n",
       "    </tr>\n",
       "    <tr>\n",
       "      <th>26702</th>\n",
       "      <td>0</td>\n",
       "    </tr>\n",
       "    <tr>\n",
       "      <th>26703</th>\n",
       "      <td>0</td>\n",
       "    </tr>\n",
       "    <tr>\n",
       "      <th>26704</th>\n",
       "      <td>0</td>\n",
       "    </tr>\n",
       "    <tr>\n",
       "      <th>26705</th>\n",
       "      <td>0</td>\n",
       "    </tr>\n",
       "    <tr>\n",
       "      <th>26706</th>\n",
       "      <td>0</td>\n",
       "    </tr>\n",
       "  </tbody>\n",
       "</table>\n",
       "<p>26707 rows × 1 columns</p>\n",
       "</div>"
      ],
      "text/plain": [
       "       h1n1_vaccine\n",
       "0                 0\n",
       "1                 0\n",
       "2                 0\n",
       "3                 0\n",
       "4                 0\n",
       "...             ...\n",
       "26702             0\n",
       "26703             0\n",
       "26704             0\n",
       "26705             0\n",
       "26706             0\n",
       "\n",
       "[26707 rows x 1 columns]"
      ]
     },
     "execution_count": 57,
     "metadata": {},
     "output_type": "execute_result"
    }
   ],
   "source": [
    "y"
   ]
  },
  {
   "cell_type": "markdown",
   "id": "a2c870b4",
   "metadata": {
    "papermill": {
     "duration": 0.17772,
     "end_time": "2022-01-31T10:48:35.818454",
     "exception": false,
     "start_time": "2022-01-31T10:48:35.640734",
     "status": "completed"
    },
    "tags": []
   },
   "source": [
    "## Splitting the data into training and testing data"
   ]
  },
  {
   "cell_type": "code",
   "execution_count": 58,
   "id": "9ee3c808",
   "metadata": {
    "papermill": {
     "duration": 0.192734,
     "end_time": "2022-01-31T10:48:36.186795",
     "exception": false,
     "start_time": "2022-01-31T10:48:35.994061",
     "status": "completed"
    },
    "tags": []
   },
   "outputs": [],
   "source": [
    "x_train, x_test, y_train, y_test = train_test_split(X,y,test_size=0.3, random_state=23)"
   ]
  },
  {
   "cell_type": "markdown",
   "id": "0a011de3",
   "metadata": {
    "papermill": {
     "duration": 0.175075,
     "end_time": "2022-01-31T10:48:36.538011",
     "exception": false,
     "start_time": "2022-01-31T10:48:36.362936",
     "status": "completed"
    },
    "tags": []
   },
   "source": [
    "## Using Binary Relevance - Naive Bayes"
   ]
  },
  {
   "cell_type": "code",
   "execution_count": 59,
   "id": "4a37ae69",
   "metadata": {
    "papermill": {
     "duration": 0.256554,
     "end_time": "2022-01-31T10:48:36.969819",
     "exception": false,
     "start_time": "2022-01-31T10:48:36.713265",
     "status": "completed"
    },
    "tags": []
   },
   "outputs": [
    {
     "data": {
      "text/plain": [
       "0.7670036191189318"
      ]
     },
     "execution_count": 59,
     "metadata": {},
     "output_type": "execute_result"
    }
   ],
   "source": [
    "# Gaussian Naive Bayes\n",
    "\n",
    "# Initializing\n",
    "\n",
    "model_BR_GNB = BinaryRelevance(GaussianNB())\n",
    "\n",
    "# Training\n",
    "\n",
    "model_BR_GNB.fit(x_train,y_train)\n",
    "\n",
    "# Predicting\n",
    "\n",
    "y_pred_BR_GNB = model_BR_GNB.predict(x_test)\n",
    "# Testing\n",
    "\n",
    "y_pred_BR_GNB=pd.DataFrame.sparse.from_spmatrix(y_pred_BR_GNB)\n",
    "BR_GNB = accuracy_score(y_test,y_pred_BR_GNB)\n",
    "BR_GNB"
   ]
  },
  {
   "cell_type": "markdown",
   "id": "67e6d846",
   "metadata": {
    "papermill": {
     "duration": 0.174775,
     "end_time": "2022-01-31T10:48:37.327074",
     "exception": false,
     "start_time": "2022-01-31T10:48:37.152299",
     "status": "completed"
    },
    "tags": []
   },
   "source": [
    "## Using Binary Relevance - Decision Tree"
   ]
  },
  {
   "cell_type": "code",
   "execution_count": 60,
   "id": "3eb89214",
   "metadata": {
    "papermill": {
     "duration": 0.495864,
     "end_time": "2022-01-31T10:48:37.997908",
     "exception": false,
     "start_time": "2022-01-31T10:48:37.502044",
     "status": "completed"
    },
    "tags": []
   },
   "outputs": [
    {
     "data": {
      "text/plain": [
       "0.7400474229377262"
      ]
     },
     "execution_count": 60,
     "metadata": {},
     "output_type": "execute_result"
    }
   ],
   "source": [
    "# Initializing\n",
    "\n",
    "model_BR_DT = BinaryRelevance(DecisionTreeClassifier())\n",
    "\n",
    "# Training\n",
    "\n",
    "model_BR_DT.fit(x_train,y_train)\n",
    "\n",
    "# Predicting\n",
    "\n",
    "y_pred_BR_DT = model_BR_DT.predict(x_test)\n",
    "\n",
    "# Testing\n",
    "\n",
    "y_pred_BR_DT=pd.DataFrame.sparse.from_spmatrix(y_pred_BR_DT)\n",
    "\n",
    "BR_DT = accuracy_score(y_test,y_pred_BR_DT)\n",
    "BR_DT"
   ]
  },
  {
   "cell_type": "markdown",
   "id": "1c102280",
   "metadata": {
    "papermill": {
     "duration": 0.184143,
     "end_time": "2022-01-31T10:48:38.378779",
     "exception": false,
     "start_time": "2022-01-31T10:48:38.194636",
     "status": "completed"
    },
    "tags": []
   },
   "source": [
    "## Using Binary Relevance - Logistic Regression"
   ]
  },
  {
   "cell_type": "code",
   "execution_count": 61,
   "id": "810de6fe",
   "metadata": {
    "papermill": {
     "duration": 0.670589,
     "end_time": "2022-01-31T10:48:39.225046",
     "exception": false,
     "start_time": "2022-01-31T10:48:38.554457",
     "status": "completed"
    },
    "tags": []
   },
   "outputs": [
    {
     "data": {
      "text/plain": [
       "0.8284038437538999"
      ]
     },
     "execution_count": 61,
     "metadata": {},
     "output_type": "execute_result"
    }
   ],
   "source": [
    "# Initializing\n",
    "\n",
    "model_BR_LR = BinaryRelevance(LogisticRegression())\n",
    "\n",
    "# Training\n",
    "\n",
    "model_BR_LR.fit(x_train,y_train)\n",
    "\n",
    "# Predicting\n",
    "\n",
    "y_pred_BR_LR = model_BR_LR.predict(x_test)\n",
    "\n",
    "# Testing\n",
    "y_pred_BR_LR=pd.DataFrame.sparse.from_spmatrix(y_pred_BR_LR)\n",
    "\n",
    "BR_LR = accuracy_score(y_test,y_pred_BR_LR)\n",
    "BR_LR"
   ]
  },
  {
   "cell_type": "markdown",
   "id": "0e4712b5",
   "metadata": {
    "papermill": {
     "duration": 0.174954,
     "end_time": "2022-01-31T10:48:39.624391",
     "exception": false,
     "start_time": "2022-01-31T10:48:39.449437",
     "status": "completed"
    },
    "tags": []
   },
   "source": [
    "## Using Classifier Chains - Naive Bayes"
   ]
  },
  {
   "cell_type": "code",
   "execution_count": 62,
   "id": "09c43c2c",
   "metadata": {
    "papermill": {
     "duration": 0.248303,
     "end_time": "2022-01-31T10:48:40.049635",
     "exception": false,
     "start_time": "2022-01-31T10:48:39.801332",
     "status": "completed"
    },
    "tags": []
   },
   "outputs": [
    {
     "data": {
      "text/plain": [
       "0.7670036191189318"
      ]
     },
     "execution_count": 62,
     "metadata": {},
     "output_type": "execute_result"
    }
   ],
   "source": [
    "# Gaussian Naive Bayes\n",
    "\n",
    "# Initializing\n",
    "\n",
    "model_CC_GNB = ClassifierChain(GaussianNB())\n",
    "\n",
    "# Training\n",
    "\n",
    "model_CC_GNB.fit(x_train,y_train)\n",
    "\n",
    "# Predicting\n",
    "\n",
    "y_pred_CC_GNB = model_CC_GNB.predict(x_test)\n",
    "\n",
    "# Testing\n",
    "y_pred_CC_GNB=pd.DataFrame.sparse.from_spmatrix(y_pred_CC_GNB)\n",
    "\n",
    "CC_GNB = accuracy_score(y_test,y_pred_CC_GNB)\n",
    "CC_GNB"
   ]
  },
  {
   "cell_type": "markdown",
   "id": "4cdba243",
   "metadata": {
    "papermill": {
     "duration": 0.17516,
     "end_time": "2022-01-31T10:48:40.402033",
     "exception": false,
     "start_time": "2022-01-31T10:48:40.226873",
     "status": "completed"
    },
    "tags": []
   },
   "source": [
    "## Using Classifier Chains - Decision Tree"
   ]
  },
  {
   "cell_type": "code",
   "execution_count": 63,
   "id": "8664f731",
   "metadata": {
    "papermill": {
     "duration": 0.505666,
     "end_time": "2022-01-31T10:48:41.082841",
     "exception": false,
     "start_time": "2022-01-31T10:48:40.577175",
     "status": "completed"
    },
    "tags": []
   },
   "outputs": [
    {
     "data": {
      "text/plain": [
       "0.741420192187695"
      ]
     },
     "execution_count": 63,
     "metadata": {},
     "output_type": "execute_result"
    }
   ],
   "source": [
    "# Initializing\n",
    "\n",
    "model_CC_DT = ClassifierChain(DecisionTreeClassifier())\n",
    "\n",
    "# Training\n",
    "\n",
    "model_CC_DT.fit(x_train,y_train)\n",
    "\n",
    "# Predicting\n",
    "\n",
    "y_pred_CC_DT = model_CC_DT.predict(x_test)\n",
    "\n",
    "# Testing\n",
    "y_pred_CC_DT=pd.DataFrame.sparse.from_spmatrix(y_pred_CC_DT)\n",
    "\n",
    "CC_DT = accuracy_score(y_test,y_pred_CC_DT)\n",
    "CC_DT"
   ]
  },
  {
   "cell_type": "markdown",
   "id": "cf54fde0",
   "metadata": {
    "papermill": {
     "duration": 0.176094,
     "end_time": "2022-01-31T10:48:41.436734",
     "exception": false,
     "start_time": "2022-01-31T10:48:41.260640",
     "status": "completed"
    },
    "tags": []
   },
   "source": [
    "## Using Classifier Chains - Logistic Regression"
   ]
  },
  {
   "cell_type": "code",
   "execution_count": 64,
   "id": "c52754a7",
   "metadata": {
    "papermill": {
     "duration": 0.630402,
     "end_time": "2022-01-31T10:48:42.243439",
     "exception": false,
     "start_time": "2022-01-31T10:48:41.613037",
     "status": "completed"
    },
    "tags": []
   },
   "outputs": [
    {
     "data": {
      "text/plain": [
       "0.8284038437538999"
      ]
     },
     "execution_count": 64,
     "metadata": {},
     "output_type": "execute_result"
    }
   ],
   "source": [
    "# Initializing\n",
    "\n",
    "model_CC_LR = ClassifierChain(LogisticRegression())\n",
    "\n",
    "# Training\n",
    "\n",
    "model_CC_LR.fit(x_train,y_train)\n",
    "\n",
    "# Predicting\n",
    "\n",
    "y_pred_CC_LR = model_CC_LR.predict(x_test)\n",
    "\n",
    "# Testing\n",
    "y_pred_CC_LR =pd.DataFrame.sparse.from_spmatrix(y_pred_CC_LR )\n",
    "\n",
    "CC_LR = accuracy_score(y_test,y_pred_CC_LR)\n",
    "CC_LR"
   ]
  },
  {
   "cell_type": "markdown",
   "id": "30e7972f",
   "metadata": {
    "papermill": {
     "duration": 0.1767,
     "end_time": "2022-01-31T10:48:42.646439",
     "exception": false,
     "start_time": "2022-01-31T10:48:42.469739",
     "status": "completed"
    },
    "tags": []
   },
   "source": [
    "## Using Label Powerset - Naive Bayes"
   ]
  },
  {
   "cell_type": "code",
   "execution_count": 65,
   "id": "9411e6a6",
   "metadata": {
    "papermill": {
     "duration": 1.017059,
     "end_time": "2022-01-31T10:48:43.839550",
     "exception": false,
     "start_time": "2022-01-31T10:48:42.822491",
     "status": "completed"
    },
    "tags": []
   },
   "outputs": [
    {
     "data": {
      "text/plain": [
       "0.7670036191189318"
      ]
     },
     "execution_count": 65,
     "metadata": {},
     "output_type": "execute_result"
    }
   ],
   "source": [
    "# Gaussian Naive Bayes\n",
    "\n",
    "# Initializing\n",
    "\n",
    "model_LP_GNB = LabelPowerset(GaussianNB())\n",
    "\n",
    "# Training\n",
    "\n",
    "model_LP_GNB.fit(x_train,y_train)\n",
    "\n",
    "# Predicting\n",
    "\n",
    "y_pred_LP_GNB = model_LP_GNB.predict(x_test)\n",
    "\n",
    "# Testing\n",
    "y_pred_LP_GNB =pd.DataFrame.sparse.from_spmatrix(y_pred_LP_GNB )\n",
    "\n",
    "LP_GNB = accuracy_score(y_test,y_pred_LP_GNB)\n",
    "LP_GNB"
   ]
  },
  {
   "cell_type": "markdown",
   "id": "54f07567",
   "metadata": {
    "papermill": {
     "duration": 0.189568,
     "end_time": "2022-01-31T10:48:44.213605",
     "exception": false,
     "start_time": "2022-01-31T10:48:44.024037",
     "status": "completed"
    },
    "tags": []
   },
   "source": [
    "## Using Label Powerset - Decision Tree"
   ]
  },
  {
   "cell_type": "code",
   "execution_count": 66,
   "id": "7c6a0d1a",
   "metadata": {
    "papermill": {
     "duration": 1.273825,
     "end_time": "2022-01-31T10:48:45.684105",
     "exception": false,
     "start_time": "2022-01-31T10:48:44.410280",
     "status": "completed"
    },
    "tags": []
   },
   "outputs": [
    {
     "data": {
      "text/plain": [
       "0.7441657306876326"
      ]
     },
     "execution_count": 66,
     "metadata": {},
     "output_type": "execute_result"
    }
   ],
   "source": [
    "# Initializing\n",
    "\n",
    "model_LP_DT = LabelPowerset(DecisionTreeClassifier())\n",
    "\n",
    "# Training\n",
    "\n",
    "model_LP_DT.fit(x_train,y_train)\n",
    "\n",
    "# Predicting\n",
    "\n",
    "y_pred_LP_DT = model_LP_DT.predict(x_test)\n",
    "\n",
    "# Testing\n",
    "y_pred_LP_DT =pd.DataFrame.sparse.from_spmatrix(y_pred_LP_DT )\n",
    "\n",
    "LP_DT = accuracy_score(y_test,y_pred_LP_DT)\n",
    "LP_DT"
   ]
  },
  {
   "cell_type": "markdown",
   "id": "7499ab40",
   "metadata": {
    "papermill": {
     "duration": 0.188535,
     "end_time": "2022-01-31T10:48:46.060656",
     "exception": false,
     "start_time": "2022-01-31T10:48:45.872121",
     "status": "completed"
    },
    "tags": []
   },
   "source": [
    "## Random Forest"
   ]
  },
  {
   "cell_type": "code",
   "execution_count": 67,
   "id": "fe9a8def",
   "metadata": {
    "papermill": {
     "duration": 3.710652,
     "end_time": "2022-01-31T10:48:49.961108",
     "exception": false,
     "start_time": "2022-01-31T10:48:46.250456",
     "status": "completed"
    },
    "tags": []
   },
   "outputs": [
    {
     "data": {
      "text/plain": [
       "0.8170472981405217"
      ]
     },
     "execution_count": 67,
     "metadata": {},
     "output_type": "execute_result"
    }
   ],
   "source": [
    "# Initializing\n",
    "\n",
    "model_RF = RandomForestClassifier()\n",
    "\n",
    "# Training\n",
    "\n",
    "model_RF.fit(x_train,y_train)\n",
    "\n",
    "# Predicting\n",
    "\n",
    "y_pred_RF = model_RF.predict(x_test)\n",
    "\n",
    "# Testing\n",
    "\n",
    "#y_pred_RF =pd.DataFrame.sparse.from_spmatrix(y_pred_RF )\n",
    "RF = accuracy_score(y_test,y_pred_RF)\n",
    "RF"
   ]
  },
  {
   "cell_type": "markdown",
   "id": "b417fbcd",
   "metadata": {
    "papermill": {
     "duration": 0.178195,
     "end_time": "2022-01-31T10:48:50.326213",
     "exception": false,
     "start_time": "2022-01-31T10:48:50.148018",
     "status": "completed"
    },
    "tags": []
   },
   "source": [
    "# MODEL EVALUATION"
   ]
  },
  {
   "cell_type": "markdown",
   "id": "7f96a7fd",
   "metadata": {
    "papermill": {
     "duration": 0.179904,
     "end_time": "2022-01-31T10:48:50.684264",
     "exception": false,
     "start_time": "2022-01-31T10:48:50.504360",
     "status": "completed"
    },
    "tags": []
   },
   "source": [
    "## Accuracy score comparison chart"
   ]
  },
  {
   "cell_type": "code",
   "execution_count": 68,
   "id": "5959ade1",
   "metadata": {
    "papermill": {
     "duration": 0.188732,
     "end_time": "2022-01-31T10:48:51.052543",
     "exception": false,
     "start_time": "2022-01-31T10:48:50.863811",
     "status": "completed"
    },
    "tags": []
   },
   "outputs": [
    {
     "name": "stdout",
     "output_type": "stream",
     "text": [
      "BR Logistic Regression\n"
     ]
    }
   ],
   "source": [
    "Accuracy_Score = [BR_GNB,BR_DT,BR_LR,CC_GNB,CC_DT,CC_LR,LP_GNB,LP_DT,RF]\n",
    "Models = ['BR Naive Bayes', 'BR Decision Tree' , 'BR Logistic Regression', 'CC Naive Bayes',\n",
    "          'CC Decision Tree', 'CC Logistic Regression', 'LP Naive Bayes', 'LP Decision Tree','Random Forest']\n",
    "Max_Accuracy_Score_index=list(Accuracy_Score).index(max(Accuracy_Score))\n",
    "print(Models[Max_Accuracy_Score_index])"
   ]
  },
  {
   "cell_type": "code",
   "execution_count": 69,
   "id": "1ccf0e4c",
   "metadata": {
    "papermill": {
     "duration": 0.390352,
     "end_time": "2022-01-31T10:48:51.624297",
     "exception": false,
     "start_time": "2022-01-31T10:48:51.233945",
     "status": "completed"
    },
    "tags": []
   },
   "outputs": [
    {
     "data": {
      "image/png": "[encoded data removed]",
      "text/plain": [
       "<Figure size 432x288 with 1 Axes>"
      ]
     },
     "metadata": {
      "needs_background": "light"
     },
     "output_type": "display_data"
    }
   ],
   "source": [
    "sns.barplot(Accuracy_Score, Models, color=\"m\")\n",
    "plt.xlabel('Accuracy Score')\n",
    "plt.title('Accuracy Score')\n",
    "plt.show()"
   ]
  },
  {
   "cell_type": "markdown",
   "id": "eadcf1f4",
   "metadata": {
    "papermill": {
     "duration": 0.181987,
     "end_time": "2022-01-31T10:48:51.987234",
     "exception": false,
     "start_time": "2022-01-31T10:48:51.805247",
     "status": "completed"
    },
    "tags": []
   },
   "source": [
    "#### Binary Relevance - Logistic Regression HAS THE HIGHEST ACCURACY SCORE"
   ]
  }
 ],
 "metadata": {
  "kernelspec": {
   "display_name": "Python 3 (ipykernel)",
   "language": "python",
   "name": "python3"
  },
  "language_info": {
   "codemirror_mode": {
    "name": "ipython",
    "version": 3
   },
   "file_extension": ".py",
   "mimetype": "text/x-python",
   "name": "python",
   "nbconvert_exporter": "python",
   "pygments_lexer": "ipython3",
   "version": "3.8.10"
  },
  "papermill": {
   "default_parameters": {},
   "duration": 122.683884,
   "end_time": "2022-01-31T10:48:53.177687",
   "environment_variables": {},
   "exception": null,
   "input_path": "__notebook__.ipynb",
   "output_path": "__notebook__.ipynb",
   "parameters": {},
   "start_time": "2022-01-31T10:46:50.493803",
   "version": "2.3.3"
  }
 },
 "nbformat": 4,
 "nbformat_minor": 5
}
